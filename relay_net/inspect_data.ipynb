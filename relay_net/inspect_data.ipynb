{
 "cells": [
  {
   "cell_type": "code",
   "execution_count": 1,
   "id": "5e7b670d",
   "metadata": {},
   "outputs": [],
   "source": [
    "#!/usr/bin/env python3\n",
    "\n",
    "from PIL import Image\n",
    "from scipy.io import loadmat\n",
    "import numpy as np\n",
    "from pathlib import Path\n",
    "from tqdm import tqdm\n",
    "import itertools\n",
    "from scipy.ndimage.morphology import distance_transform_edt\n",
    "\n",
    "\n",
    "def generate_dataset_v1(out_dir, amd, control):\n",
    "    amd_files = Path(amd).glob(\"*\")\n",
    "    control_files = Path(control).glob(\"*\")\n",
    "    raw_files = list(itertools.chain(amd_files, control_files))\n",
    "    Path(out_dir).mkdir()\n",
    "    img_cnt = 0\n",
    "    for file_ind in tqdm(range(len(raw_files)), desc=\"data generation\"):\n",
    "        file = raw_files[file_ind]\n",
    "        img_dict = loadmat(file)\n",
    "        layers = img_dict[\"layerMaps\"]\n",
    "        images = img_dict[\"images\"].transpose((2, 0, 1))\n",
    "        for image, layer in zip(images, layers):\n",
    "            x_ind, _ = np.where(~np.isnan(layer))\n",
    "            if len(x_ind):\n",
    "                x_min = x_ind.min()\n",
    "                x_max = x_ind.max()\n",
    "                width = x_max - x_min\n",
    "                if width > 64:\n",
    "                    number_of_slices = width // 64\n",
    "                    for num in range(number_of_slices):\n",
    "                        img = image[:, x_min + num * 64: x_min + (num + 1) * 64]\n",
    "                        lyr = layer[x_min + num * 64: x_min + (num + 1) * 64, :]\n",
    "                        mask_rbr = np.zeros((image.shape[0], 64), dtype=\"uint8\")\n",
    "                        mask_r1 = np.zeros((image.shape[0], 64), dtype=\"uint8\")\n",
    "                        mask_r2 = np.zeros((image.shape[0], 64), dtype=\"uint8\")\n",
    "                        mask_rar = np.zeros((image.shape[0], 64), dtype=\"uint8\")\n",
    "                        for col_idx, col in enumerate(lyr):\n",
    "                            border1 = int(col[0])\n",
    "                            border2 = int(col[1])\n",
    "                            border3 = int(col[2])\n",
    "                            mask_rbr[:border1 + 1, col_idx] = 255\n",
    "                            mask_r1[border1 + 1:border2 + 1, col_idx] = 255\n",
    "                            mask_r2[border2 + 1:border3 + 1, col_idx] = 255\n",
    "                            mask_rar[border3 + 1:, col_idx] = 255\n",
    "                        Image.fromarray(img).save(f\"{out_dir}/img_{img_cnt}.png\")\n",
    "                        Image.fromarray(mask_rbr).save(f\"{out_dir}/mask_{img_cnt}_r0.png\")\n",
    "                        Image.fromarray(mask_r1).save(f\"{out_dir}/mask_{img_cnt}_r1.png\")\n",
    "                        Image.fromarray(mask_r2).save(f\"{out_dir}/mask_{img_cnt}_r2.png\")\n",
    "                        Image.fromarray(mask_rar).save(f\"{out_dir}/mask_{img_cnt}_r3.png\")\n",
    "                        img_cnt += 1\n",
    "\n",
    "\n",
    "def boundary_length_distribution(folder):\n",
    "    lengths = []\n",
    "    for file in folder:\n",
    "        data = loadmat(file)\n",
    "        for bscan in data[\"layerMaps\"]:\n",
    "            x_inds, _ = np.where(~np.isnan(bscan))\n",
    "            if x_inds.any():\n",
    "                lengths.append(x_inds[-1] - x_inds[0])\n",
    "    return lengths\n",
    "\n",
    "def boundary_middle_distribution(folder):\n",
    "    middles = []\n",
    "    for file in folder:\n",
    "        data = loadmat(file)\n",
    "        for bscan in data[\"layerMaps\"]:\n",
    "            x_inds, _ = np.where(~np.isnan(bscan))\n",
    "            if x_inds.any():\n",
    "                middles.append(x_inds[len(x_inds) // 2])\n",
    "    return middles\n",
    "\n",
    "\n",
    "def show_boundaries_from_mask_array(img_array, mask_array):\n",
    "    empty = mask_array.copy()\n",
    "    ones = np.ones(img_array.shape, dtype=\"uint8\") * 255\n",
    "    img_stack = np.array([empty, empty, img_array]).transpose((1, 2, 0))\n",
    "    img = Image.fromarray(img_stack, mode=\"HSV\")\n",
    "    colored_mask_stack = np.array([empty, ones, ones]).transpose((1, 2, 0))\n",
    "    colored_mask = Image.fromarray(colored_mask_stack, mode=\"HSV\")\n",
    "    maskimg = Image.fromarray(mask_array)\n",
    "    img_with_boundaries = Image.composite(colored_mask, img, maskimg)\n",
    "    return img_with_boundaries\n",
    "\n",
    "\n",
    "def show_boundaries_from_layer_array(img_array, layer_array):\n",
    "    err_msg = \"layer boundaries not compatible with image width\"\n",
    "    assert img_array.shape[1] == layer_array.shape[0], err_msg\n",
    "    mask = np.zeros(img_array.shape, dtype=\"uint8\")\n",
    "    for w_idx in range(img_array.shape[1]):\n",
    "        if ~np.isnan(layer_array[w_idx, :]).any():\n",
    "            for h_idx in layer_array[w_idx, :]:\n",
    "                mask[int(h_idx), w_idx] = 255\n",
    "    empty = mask.copy()\n",
    "    ones = np.ones(img_array.shape, dtype=\"uint8\") * 255\n",
    "    img_stack = np.array([empty, empty, img_array]).transpose((1, 2, 0))\n",
    "    img = Image.fromarray(img_stack, mode=\"HSV\")\n",
    "    colored_mask_stack = np.array([empty, ones, ones]).transpose((1, 2, 0))\n",
    "    colored_mask = Image.fromarray(colored_mask_stack, mode=\"HSV\")\n",
    "    maskimg = Image.fromarray(mask)\n",
    "    img_with_boundaries = Image.composite(colored_mask, img, maskimg)\n",
    "    return img_with_boundaries"
   ]
  },
  {
   "cell_type": "code",
   "execution_count": null,
   "id": "5937877c",
   "metadata": {},
   "outputs": [],
   "source": [
    "def generate_dataset_v2(out_dir, amd, control):\n",
    "    amd_files = Path(amd).glob(\"*\")\n",
    "    control_files = Path(control).glob(\"*\")\n",
    "    raw_files = list(itertools.chain(amd_files, control_files))\n",
    "    Path(out_dir).mkdir()\n",
    "    img_cnt = 0\n",
    "    for file_ind in tqdm(range(len(raw_files)), desc=\"data generation\"):\n",
    "        file = raw_files[file_ind]\n",
    "        img_dict = loadmat(file)\n",
    "        layers = img_dict[\"layerMaps\"]\n",
    "        images = img_dict[\"images\"].transpose((2, 0, 1))\n",
    "        for image, layer in zip(images, layers):\n",
    "            x_ind, _ = np.where(~np.isnan(layer))\n",
    "            if len(x_ind):\n",
    "                x_min = x_ind.min()\n",
    "                x_max = x_ind.max()\n",
    "                width = x_max - x_min\n",
    "                if width > 64:\n",
    "                    number_of_slices = width // 64\n",
    "                    for num in range(number_of_slices):\n",
    "                        img = image[:, x_min + num * 64: x_min + (num + 1) * 64]\n",
    "                        lyr = layer[x_min + num * 64: x_min + (num + 1) * 64, :]\n",
    "                        mask = np.zeros((image.shape[0], 64), dtype=\"uint8\")\n",
    "                        for col_idx, col in enumerate(lyr):\n",
    "                            border1 = int(col[0])\n",
    "                            border2 = int(col[1])\n",
    "                            border3 = int(col[2])\n",
    "                            mask[:border1 + 1, col_idx] = 0\n",
    "                            mask[border1 + 1:border2 + 1, col_idx] = 1\n",
    "                            mask[border2 + 1:border3 + 1, col_idx] = 2\n",
    "                            mask[border3 + 1:, col_idx] = 3\n",
    "                        Image.fromarray(img).save(f\"{out_dir}/img_{img_cnt}.png\")\n",
    "                        Image.fromarray(mask_rbr).save(f\"{out_dir}/mask_{img_cnt}.png\")\n",
    "                        img_cnt += 1\n",
    "                        \n",
    "def show_layers_from_layer_array(img_array, layer_array):\n",
    "    err_msg = \"layer boundaries not compatible with image width\"\n",
    "    assert img_array.shape[1] == layer_array.shape[0], err_msg\n",
    "    dme_colorcode = {\n",
    "        1: (180, 200, 250),\n",
    "        2: (120, 200, 250),\n",
    "        3: (80, 200, 250),\n",
    "        4: (50, 230, 250),\n",
    "        5: (20, 230, 250),\n",
    "        6: (0, 230, 250),\n",
    "        7: (0, 230, 100)\n",
    "    }\n",
    "    zeros = np.zeros_like(img_array, dtype=\"uint8\")\n",
    "    hue = np.zeros_like(img_array, dtype=\"uint8\")\n",
    "    saturation = np.zeros_like(img_array, dtype=\"uint8\")\n",
    "    value = np.zeros_like(img_array, dtype=\"uint8\")\n",
    "    mask = np.zeros(img_array.shape, dtype=\"uint8\")\n",
    "    for w in range(img_array.shape[1]):\n",
    "        if ~np.isnan(layer_array[w, :]).any():\n",
    "            last_boundary = int(layer_array[w, 0])\n",
    "            for idx, h in enumerate(layer_array[w, 1:]):\n",
    "                curr_boundary = int(h) + 1\n",
    "                mask[last_boundary:curr_boundary, w] = idx + 1\n",
    "                last_boundary = curr_boundary\n",
    "    if layer_array.shape[1] == 8:\n",
    "        for klass in range(1, 8):\n",
    "            hue[mask == klass] = dme_colorcode[klass][0]\n",
    "            saturation[mask == klass] = dme_colorcode[klass][1]\n",
    "            value[mask == klass] = dme_colorcode[klass][2]\n",
    "    alpha = np.zeros_like(img_array, dtype=\"uint8\")\n",
    "    alpha[mask != 0] = 255\n",
    "    img_stack = np.array([zeros, zeros, img_array]).transpose((1, 2, 0))\n",
    "    img = Image.fromarray(img_stack, mode=\"HSV\")\n",
    "    colored_mask_stack = np.array([hue, saturation, value]).transpose((1, 2, 0))\n",
    "    colored_mask = Image.fromarray(colored_mask_stack, mode=\"HSV\")\n",
    "    alphaimg = Image.fromarray(alpha)\n",
    "    img_with_boundaries = Image.composite(colored_mask, img, alphaimg)\n",
    "    return img_with_boundaries"
   ]
  },
  {
   "cell_type": "code",
   "execution_count": 14,
   "id": "fcd0d9d5",
   "metadata": {},
   "outputs": [],
   "source": [
    "# amd_distr = boundary_length_distribut\n",
    "# control_distr = boundary_length_distribution(control)\n",
    "# plt.figure()\n",
    "# plt.title(\"Marked boundary length distribution\")\n",
    "# plt.xlabel(\"marked boundary length [px]\")\n",
    "# plt.ylabel(\"number of cases\")\n",
    "# _ = plt.hist(amd_distr + control_distr, bins=10)\n",
    "# plt.savefig(\"boundary_lengths.png\")\n",
    "# amd_middles = boundary_middle_distribution(amd)\n",
    "# plt.figure()\n",
    "# plt.title(\"Marked boundary middle distribution\")\n",
    "# plt.xlabel(\"marked boundary middle [px]\")\n",
    "# plt.ylabel(\"number of cases\")\n",
    "# _ = plt.hist(amd_middles, bins=10)\n",
    "# plt.savefig(\"boundary_middles.png\")"
   ]
  },
  {
   "cell_type": "code",
   "execution_count": 3,
   "id": "96e12fc0",
   "metadata": {},
   "outputs": [],
   "source": [
    "amd = list(Path(\"../raw_dataset/AMD/\").glob(\"*\"))\n",
    "control = list(Path(\"../raw_dataset/Control/\").glob(\"*\"))\n",
    "dme = list(Path(\"../raw_dataset/2015_BOE_Chiu/\").glob(\"*\"))"
   ]
  },
  {
   "cell_type": "code",
   "execution_count": 7,
   "id": "5c68c4d8",
   "metadata": {},
   "outputs": [],
   "source": [
    "data = loadmat(dme[0])\n",
    "mask = np.zeros_like(img, dtype=\"uint8\")\n",
    "mask2 = np.zeros_like(img, dtype=\"uint8\")"
   ]
  },
  {
   "cell_type": "code",
   "execution_count": 8,
   "id": "aacb285c",
   "metadata": {},
   "outputs": [
    {
     "data": {
      "text/plain": [
       "dict_keys(['__header__', '__version__', '__globals__', 'images', 'automaticFluidDME', 'manualFluid1', 'manualFluid2', 'automaticLayersDME', 'automaticLayersNormal', 'manualLayers1', 'manualLayers2'])"
      ]
     },
     "execution_count": 8,
     "metadata": {},
     "output_type": "execute_result"
    }
   ],
   "source": [
    "data.keys()"
   ]
  },
  {
   "cell_type": "code",
   "execution_count": 9,
   "id": "b71a85be",
   "metadata": {},
   "outputs": [
    {
     "data": {
      "text/plain": [
       "(496, 768, 61)"
      ]
     },
     "execution_count": 9,
     "metadata": {},
     "output_type": "execute_result"
    }
   ],
   "source": [
    "data[\"automaticFluidDME\"].shape"
   ]
  },
  {
   "cell_type": "code",
   "execution_count": 11,
   "id": "9e031f95",
   "metadata": {},
   "outputs": [
    {
     "data": {
      "text/plain": [
       "(8, 768, 61)"
      ]
     },
     "execution_count": 11,
     "metadata": {},
     "output_type": "execute_result"
    }
   ],
   "source": [
    "data[\"automaticLayersDME\"].shape"
   ]
  },
  {
   "cell_type": "code",
   "execution_count": 67,
   "id": "437aaedb",
   "metadata": {},
   "outputs": [
    {
     "data": {
      "text/plain": [
       "(8, 768, 61)"
      ]
     },
     "execution_count": 67,
     "metadata": {},
     "output_type": "execute_result"
    }
   ],
   "source": [
    "data[\"automaticLayersNormal\"].shape"
   ]
  },
  {
   "cell_type": "code",
   "execution_count": 63,
   "id": "08336b8e",
   "metadata": {},
   "outputs": [],
   "source": [
    "# data = loadmat(chiu[0])\n",
    "idx = 10\n",
    "img = data[\"images\"][:, :, idx]\n",
    "lyr = data[\"automaticLayersDME\"][:, :, idx]\n",
    "# lyr2 = data[\"manualLayers2\"][:, :, idx]\n",
    "lyr3 = data[\"automaticLayersNormal\"][:, :, idx]"
   ]
  },
  {
   "cell_type": "code",
   "execution_count": 74,
   "id": "34f01644",
   "metadata": {},
   "outputs": [],
   "source": [
    "show_layers_from_layer_array(img, lyr.T).show()\n",
    "show_layers_from_layer_array(img, lyr3.T).show()"
   ]
  },
  {
   "cell_type": "code",
   "execution_count": 72,
   "id": "a94566ce",
   "metadata": {},
   "outputs": [],
   "source": [
    "l = []\n",
    "for f in dme:\n",
    "    data = loadmat(f)\n",
    "    cnt = 0\n",
    "    manual = data[\"manualLayers2\"]\n",
    "    for i in range(61):\n",
    "        if (~np.isnan(manual[:, :, i])).any():\n",
    "            cnt += 1\n",
    "    l.append(cnt)"
   ]
  },
  {
   "cell_type": "code",
   "execution_count": 73,
   "id": "c0b8896a",
   "metadata": {},
   "outputs": [
    {
     "data": {
      "text/plain": [
       "Counter({11: 10})"
      ]
     },
     "execution_count": 73,
     "metadata": {},
     "output_type": "execute_result"
    }
   ],
   "source": [
    "Counter(l)"
   ]
  },
  {
   "cell_type": "code",
   "execution_count": 70,
   "id": "6d16e332",
   "metadata": {},
   "outputs": [],
   "source": [
    "from collections import Counter"
   ]
  },
  {
   "cell_type": "code",
   "execution_count": null,
   "id": "bb65cf6d",
   "metadata": {},
   "outputs": [],
   "source": []
  }
 ],
 "metadata": {
  "kernelspec": {
   "display_name": "Python 3",
   "language": "python",
   "name": "python3"
  },
  "language_info": {
   "codemirror_mode": {
    "name": "ipython",
    "version": 3
   },
   "file_extension": ".py",
   "mimetype": "text/x-python",
   "name": "python",
   "nbconvert_exporter": "python",
   "pygments_lexer": "ipython3",
   "version": "3.7.9"
  }
 },
 "nbformat": 4,
 "nbformat_minor": 5
}
