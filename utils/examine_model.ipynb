{
 "cells": [
  {
   "cell_type": "code",
   "execution_count": 1,
   "id": "cd5423cb",
   "metadata": {},
   "outputs": [],
   "source": [
    "import os\n",
    "import torch\n",
    "from torch import nn\n",
    "import numpy as np\n",
    "import pickle\n",
    "import subprocess\n",
    "from utils.show import (\n",
    "    show_boundary,\n",
    "    show_prediction_retlstm,\n",
    "    show_raw\n",
    ")\n",
    "from utils.misc import (\n",
    "    get_loaders_retlstm,\n",
    "    send_model,\n",
    "    load_model,\n",
    "    get_and_load_model,\n",
    "    get_and_load_ckp,\n",
    "    comp\n",
    ")\n",
    "from utils.validate import validate_retlstm\n",
    "from ret_lstm.models import (\n",
    "    PatchModel,\n",
    "    PatchModel2d,\n",
    "    PatchModelPosEnc,\n",
    "    PatchModelPosEnc2d,\n",
    "    get_ConvModulePatch,\n",
    "    RetLSTM,\n",
    "    RetinaConv,\n",
    "    RetinaConv2d,\n",
    "    Block2d\n",
    ")\n",
    "\n",
    "torch.manual_seed(0)\n",
    "torch.cuda.manual_seed(0)\n",
    "np.random.seed(0)\n",
    "torch.backends.cudnn.enabled = False\n",
    "torch.backends.cudnn.deterministic = True          "
   ]
  },
  {
   "cell_type": "markdown",
   "id": "11f68043",
   "metadata": {},
   "source": [
    "## Send model to train"
   ]
  },
  {
   "cell_type": "markdown",
   "id": "003d34c4",
   "metadata": {},
   "source": [
    "### Create PatchModel"
   ]
  },
  {
   "cell_type": "code",
   "execution_count": 12,
   "id": "3807e2f5",
   "metadata": {},
   "outputs": [
    {
     "data": {
      "text/plain": [
       "1984"
      ]
     },
     "execution_count": 12,
     "metadata": {},
     "output_type": "execute_result"
    }
   ],
   "source": [
    "# skip = 3\n",
    "# conv = nn.Sequential(\n",
    "#     Block2d(2, 8, (5, 15), skip, (1, 2)),\n",
    "#     Block2d(8, 16, (5, 15), skip, (1, 2)),\n",
    "#     Block2d(16, 32, (5, 15), skip, (1, 2)),\n",
    "#     Block2d(32, 64, (5, 15), skip, (1, 2))\n",
    "# )\n",
    "# x = torch.randn(1, 2, 64, 496)\n",
    "# inf = conv(x).swapaxes(1, 2).flatten(2).shape[-1]\n",
    "# inf"
   ]
  },
  {
   "cell_type": "code",
   "execution_count": 3,
   "id": "114ec0fa",
   "metadata": {},
   "outputs": [
    {
     "data": {
      "text/plain": [
       "1984"
      ]
     },
     "execution_count": 3,
     "metadata": {},
     "output_type": "execute_result"
    }
   ],
   "source": [
    "r = nn.ReLU(True)\n",
    "mp = nn.MaxPool2d((1, 2))\n",
    "inc = 1\n",
    "kernel = (5, 15)\n",
    "padding = (int((kernel[0]-1)/2), 7)\n",
    "conv = nn.Sequential(\n",
    "    nn.Conv2d(inc, 8, kernel, padding=padding),\n",
    "    r,\n",
    "    nn.Conv2d(8, 8, kernel, padding=padding),\n",
    "    r,\n",
    "    mp,\n",
    "#     nn.Conv2d(8, 8, (1, 2), stride=(1, 2)),\n",
    "    r,\n",
    "    nn.Conv2d(8, 16, kernel, padding=padding),\n",
    "    r,\n",
    "    nn.Conv2d(16, 16, kernel, padding=padding),\n",
    "    r,\n",
    "    mp,\n",
    "#     nn.Conv2d(16, 16, (1, 2), stride=(1, 2)),\n",
    "    r,\n",
    "    nn.Conv2d(16, 32, kernel, padding=padding),\n",
    "    r,\n",
    "    nn.Conv2d(32, 32, kernel, padding=padding),\n",
    "    r,\n",
    "    mp,\n",
    "#     nn.Conv2d(32, 32, (1, 2), stride=(1, 2)),\n",
    "    r,\n",
    "    nn.Conv2d(32, 64, kernel, padding=padding),\n",
    "    r,\n",
    "    nn.Conv2d(64, 64, kernel, padding=padding),\n",
    "    r,\n",
    "    mp,\n",
    "#     nn.Conv2d(64, 64, (1, 2), stride=(1, 2)),\n",
    "#     r,\n",
    "#     nn.Conv2d(64, 128, kernel, padding=padding),\n",
    "#     r,\n",
    "#     nn.Conv2d(128, 128, kernel, padding=padding),\n",
    "#     r,\n",
    "#     mp,\n",
    ")\n",
    "x = torch.randn(16, inc, 64, 496)\n",
    "inf = conv(x).swapaxes(1, 2).flatten(2).shape[-1]\n",
    "inf"
   ]
  },
  {
   "cell_type": "code",
   "execution_count": 4,
   "id": "9588ba68",
   "metadata": {},
   "outputs": [
    {
     "name": "stdout",
     "output_type": "stream",
     "text": [
      "626320\n",
      "model sent\n"
     ]
    }
   ],
   "source": [
    "fc = nn.Linear(inf, 8)\n",
    "# pm = load_model(\"pm_k15-5_same\")\n",
    "# conv = pm.conv\n",
    "patchmodel = PatchModelPosEnc2d(\n",
    "    conv=conv,\n",
    "    fc=fc,\n",
    "    pos_enc=\"cc\",\n",
    "    cc_type=\"center\",\n",
    "    sum_coord=\"mul\"\n",
    ")\n",
    "# patchmodel = PatchModel2d(\n",
    "#     conv=conv,\n",
    "#     fc=fc,\n",
    "# )\n",
    "send_model(patchmodel, \"pm_k15-5_centerm_same\")\n",
    "# send_model(patchmodel, \"pm_k15-5_mm_same\")"
   ]
  },
  {
   "cell_type": "markdown",
   "id": "a37fd179",
   "metadata": {},
   "source": [
    "### Create LSTM"
   ]
  },
  {
   "cell_type": "code",
   "execution_count": 13,
   "id": "e4d239bc",
   "metadata": {},
   "outputs": [],
   "source": [
    "pm = load_model(\"pm_k15-nb\")"
   ]
  },
  {
   "cell_type": "code",
   "execution_count": 14,
   "id": "6ab3e80d",
   "metadata": {},
   "outputs": [],
   "source": [
    "n_hidden = 128\n",
    "# patchmodel = PatchModelPosEnc(\n",
    "#     conv=pm.conv,\n",
    "#     fc=nn.Sequential(nn.Linear(256, 256), nn.ReLU(True)),\n",
    "#     pos_enc=\"cc\",\n",
    "#     cc_type=\"center\",\n",
    "#     neighbors=13\n",
    "# )\n",
    "patchmodel = PatchModel2d(\n",
    "    conv=pm.conv,\n",
    "    fc=nn.Linear(pm.fc.in_features, n_hidden),\n",
    ")"
   ]
  },
  {
   "cell_type": "code",
   "execution_count": 16,
   "id": "f90575e5",
   "metadata": {},
   "outputs": [
    {
     "name": "stdout",
     "output_type": "stream",
     "text": [
      "287440\n",
      "model sent\n"
     ]
    }
   ],
   "source": [
    "lstm = RetLSTM(\n",
    "    patchmodel=patchmodel,\n",
    "    fc=nn.Linear(n_hidden, 8),\n",
    "    hidden_size=n_hidden,\n",
    "    forget_bias=10,\n",
    ")\n",
    "send_model(lstm, \"lstm_k15-nb_nh128\", init=\"def\")"
   ]
  },
  {
   "cell_type": "markdown",
   "id": "eab68bad",
   "metadata": {},
   "source": [
    "### Create RetinaConv"
   ]
  },
  {
   "cell_type": "code",
   "execution_count": 5,
   "id": "a49a2aa4",
   "metadata": {},
   "outputs": [],
   "source": [
    "r = nn.ReLU(True)\n",
    "kernel = (1, 5)\n",
    "padding = (0, int((kernel[1] - 1)/2))\n",
    "conv = nn.Sequential(\n",
    "    nn.Conv2d(1, 8, kernel, padding=padding),\n",
    "    r,\n",
    "    nn.Conv2d(8, 16, kernel, padding=padding),\n",
    "    r,\n",
    "    nn.Conv2d(16, 32, kernel, padding=padding),\n",
    "    r,\n",
    "    nn.Conv2d(32, 64, kernel, padding=padding),\n",
    "    r,\n",
    "#     nn.Conv2d(16, 32, kernel, padding=padding)\n",
    ")\n",
    "x = torch.randn(1, 1, 32, 64)\n",
    "inf2 = conv(x).swapaxes(1, 2).flatten(2).shape[-1]"
   ]
  },
  {
   "cell_type": "code",
   "execution_count": 9,
   "id": "8cf7829a",
   "metadata": {},
   "outputs": [
    {
     "name": "stdout",
     "output_type": "stream",
     "text": [
      "418288\n",
      "model sent\n"
     ]
    }
   ],
   "source": [
    "pm = get_and_load_model(\"pm_k15-nb\")\n",
    "inf1 = pm.fc.in_features\n",
    "# patchmodel = PatchModelPosEnc2d(\n",
    "#     conv=pm.conv,\n",
    "#     fc=nn.Identity(),\n",
    "#     pos_enc=\"cc\",\n",
    "#     cc_type=\"center\",\n",
    "# )\n",
    "patchmodel = PatchModel2d(\n",
    "    conv=pm.conv,\n",
    "    fc=nn.Identity()\n",
    ")\n",
    "fc = nn.Linear(inf2, 64)\n",
    "rc = RetinaConv2d(patchmodel=patchmodel, conv=conv, fc1=fc, fc2=pm.fc)\n",
    "send_model(rc, \"rc_k15-nb_5\", init=\"def\")"
   ]
  },
  {
   "cell_type": "markdown",
   "id": "ae12a173",
   "metadata": {},
   "source": [
    "## Get model to visualize"
   ]
  },
  {
   "cell_type": "code",
   "execution_count": 2,
   "id": "225edeb6",
   "metadata": {},
   "outputs": [
    {
     "name": "stdout",
     "output_type": "stream",
     "text": [
      ">> checkpoint loaded\n"
     ]
    }
   ],
   "source": [
    "name = \"pm_k15-5_center_same\"\n",
    "pm = get_and_load_model(name)\n",
    "get_and_load_ckp(pm, f\"pkl/{name}/lr5.e-04_bs4_pw64_\", 100)"
   ]
  },
  {
   "cell_type": "code",
   "execution_count": 3,
   "id": "b73ab090",
   "metadata": {},
   "outputs": [],
   "source": [
    "import albumentations as A"
   ]
  },
  {
   "cell_type": "code",
   "execution_count": 4,
   "id": "93a64c98",
   "metadata": {},
   "outputs": [],
   "source": [
    "train_transf = A.HorizontalFlip()"
   ]
  },
  {
   "cell_type": "code",
   "execution_count": 5,
   "id": "1001f892",
   "metadata": {},
   "outputs": [],
   "source": [
    "patch_width = 496\n",
    "train_dl, valid_dl, mean_std = get_loaders_retlstm(\n",
    "    \"../../corrected_ds\",\n",
    "    patch_width, 32, train_transf, True, True, True, False, 2\n",
    ")\n",
    "x, y, corner, mask = next(iter(valid_dl))"
   ]
  },
  {
   "cell_type": "code",
   "execution_count": 68,
   "id": "5b4ffa47",
   "metadata": {},
   "outputs": [
    {
     "name": "stderr",
     "output_type": "stream",
     "text": [
      "Validation:   0%|          | 0/27 [00:00<?, ?it/s]/home/loerinczy/anaconda3/lib/python3.7/site-packages/torch/autocast_mode.py:141: UserWarning: User provided device_type of 'cuda', but CUDA is not available. Disabling\n",
      "  warnings.warn('User provided device_type of \\'cuda\\', but CUDA is not available. Disabling')\n",
      "                                                                                          \r"
     ]
    }
   ],
   "source": [
    "loss, dice, ce, mad = validate_retlstm(pm, valid_dl, nn.L1Loss(), True, True, torch.ones(8), mean_std, 9)"
   ]
  },
  {
   "cell_type": "code",
   "execution_count": 69,
   "id": "fbbda134",
   "metadata": {},
   "outputs": [
    {
     "name": "stdout",
     "output_type": "stream",
     "text": [
      "2.254\n"
     ]
    }
   ],
   "source": [
    "print(ce.mean())"
   ]
  },
  {
   "cell_type": "code",
   "execution_count": 9,
   "id": "9b13bbe7",
   "metadata": {},
   "outputs": [],
   "source": [
    "pred, target = show_prediction_retlstm(pm, 0, x, y, corner, mean_std)"
   ]
  },
  {
   "cell_type": "code",
   "execution_count": 10,
   "id": "2776efac",
   "metadata": {},
   "outputs": [],
   "source": [
    "pred.show()"
   ]
  },
  {
   "cell_type": "code",
   "execution_count": 11,
   "id": "5f0e3d61",
   "metadata": {},
   "outputs": [],
   "source": [
    "target.show()"
   ]
  },
  {
   "cell_type": "markdown",
   "id": "a0ba0431",
   "metadata": {},
   "source": [
    "# Filter Bank"
   ]
  },
  {
   "cell_type": "code",
   "execution_count": null,
   "id": "5cbffbbf",
   "metadata": {},
   "outputs": [],
   "source": [
    "conv = nn.Sequential(\n",
    "    nn.Conv2d(inc, 8, (5, 15), padding=(2, 7)),\n",
    "    r,\n",
    "    nn.Conv2d(8, 8, (5, 15), padding=(2, 7)),\n",
    "    r,\n",
    "    mp,\n",
    "#     nn.Conv2d(8, 8, (1, 2), stride=(1, 2)),\n",
    "    r,\n",
    "    nn.Conv2d(8, 16, (1, 15), padding=(0, 7)),\n",
    "    r,\n",
    "    nn.Conv2d(16, 16, (1, 15), padding=(0, 7)),\n",
    "    r,\n",
    "    mp,\n",
    "#     nn.Conv2d(16, 16, (1, 2), stride=(1, 2)),\n",
    "    r,\n",
    "    nn.Conv2d(16, 32, (1, 15), padding=(0, 7)),\n",
    "    r,\n",
    "    nn.Conv2d(32, 32, (1, 15), padding=(0, 7)),\n",
    "    r,\n",
    "    mp,\n",
    "#     nn.Conv2d(32, 32, (1, 2), stride=(1, 2)),\n",
    "    r,\n",
    "    nn.Conv2d(32, 64, (1, 15), padding=(0, 7)),\n",
    "    r,\n",
    "    nn.Conv2d(64, 64, (1, 15), padding=(0, 7)),\n",
    "    r,\n",
    "    mp,\n",
    "#     nn.Conv2d(64, 64, (1, 2), stride=(1, 2)),\n",
    "    r,\n",
    "#     nn.Conv2d(64, 128, kernel, padding=padding),\n",
    "#     r,\n",
    "#     nn.Conv2d(128, 128, kernel, padding=padding),\n",
    "#     r,\n",
    "#     mp,\n",
    ")\n",
    "x = torch.randn(16, inc, 64, 496)\n",
    "inf = conv(x).swapaxes(1, 2).flatten(2).shape[-1]\n",
    "inf"
   ]
  }
 ],
 "metadata": {
  "kernelspec": {
   "display_name": "Python 3",
   "language": "python",
   "name": "python3"
  },
  "language_info": {
   "codemirror_mode": {
    "name": "ipython",
    "version": 3
   },
   "file_extension": ".py",
   "mimetype": "text/x-python",
   "name": "python",
   "nbconvert_exporter": "python",
   "pygments_lexer": "ipython3",
   "version": "3.7.9"
  }
 },
 "nbformat": 4,
 "nbformat_minor": 5
}
