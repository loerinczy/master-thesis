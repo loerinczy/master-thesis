{
 "cells": [
  {
   "cell_type": "code",
   "execution_count": 1,
   "id": "c672ddf5",
   "metadata": {},
   "outputs": [],
   "source": [
    "from PIL import Image\n",
    "from scipy.io import loadmat\n",
    "import numpy as np\n",
    "from pathlib import Path\n",
    "from tqdm import tqdm\n",
    "import itertools\n",
    "from scipy.ndimage.morphology import distance_transform_edt\n",
    "from collections import Counter\n",
    "from itertools import chain\n",
    "import json\n",
    "import torch\n",
    "from torch import nn\n",
    "from matplotlib import pyplot as plt\n",
    "import pickle\n",
    "\n",
    "from utils.show import show_layers_from_mask, show_layers_from_boundary\n",
    "\n",
    "                        \n",
    "def boundary_length_distribution(folder):\n",
    "    lengths = []\n",
    "    for file in folder:\n",
    "        data = loadmat(file)\n",
    "        for bscan in data[\"layerMaps\"]:\n",
    "            x_inds, _ = np.where(~np.isnan(bscan))\n",
    "            if x_inds.any():\n",
    "                lengths.append(x_inds[-1] - x_inds[0])\n",
    "    return lengths\n",
    "\n",
    "\n",
    "def boundary_middle_distribution(folder):\n",
    "    middles = []\n",
    "    for file in folder:\n",
    "        data = loadmat(file)\n",
    "        for bscan in data[\"layerMaps\"]:\n",
    "            x_inds, _ = np.where(~np.isnan(bscan))\n",
    "            if x_inds.any():\n",
    "                middles.append(x_inds[len(x_inds) // 2])\n",
    "    return middles\n",
    "            \n",
    "\n",
    "                \n",
    "def create_boundary_mask(boundary_array, height):\n",
    "    mask = np.zeros((height, boundary_array.shape[1]), dtype=\"uint8\")\n",
    "    for col_idx, col in enumerate(boundary_array.T):\n",
    "        if ~np.isnan(col).any():\n",
    "            for boundary in col:\n",
    "                mask[int(boundary), col_idx] = 1\n",
    "    return mask\n",
    "\n",
    "\n",
    "def create_layer_mask(boundary_array, height):\n",
    "    mask = np.zeros((height, boundary_array.shape[1]), dtype=\"uint8\")\n",
    "    for col_idx, col in enumerate(boundary_array.T):\n",
    "        prev_boundary = 0\n",
    "        for boundary_idx, boundary in enumerate(col):\n",
    "            mask[prev_boundary:int(boundary) + 1, col_idx] = boundary_idx\n",
    "            prev_boundary = int(boundary) + 1\n",
    "        mask[prev_boundary:, col_idx] = boundary_idx + 1\n",
    "    return mask\n",
    "\n",
    "\n",
    "def create_patches(img, lyr, patch_width, fluid):\n",
    "    idx = np.where((np.isnan(lyr)).any(axis=0))[0]\n",
    "    diff = np.diff(idx)\n",
    "    useful_parts = diff >= patch_width\n",
    "    useful_lengths = diff[useful_parts]\n",
    "    useful_start_idx = idx[np.pad(useful_parts, (0, 1), constant_values=[False])]\n",
    "    for ustart, ulength in zip(useful_start_idx, useful_lengths):\n",
    "        number_of_shifts = (ulength - 1) // patch_width\n",
    "        for shift_idx in range(number_of_shifts):\n",
    "            indices = (slice(None), slice(\n",
    "                ustart + 1 + shift_idx * patch_width, ustart + 1 + (shift_idx + 1) * patch_width\n",
    "            ))\n",
    "            mid_list.append(int((ustart + 1 + shift_idx * patch_width + ustart + 1 + (shift_idx + 1) * patch_width) / 2))\n",
    "            img_patch = img[indices]\n",
    "            lyr_patch = lyr[indices]\n",
    "            fluid_patch = fluid[indices]\n",
    "            if np.isnan(fluid_patch).any():\n",
    "                fluid_patch = np.zeros_like(img_patch)\n",
    "            else:\n",
    "                fluid_patch = fluid_patch.astype(img_patch.dtype)\n",
    "                fluid_patch[fluid_patch != 0] = 1\n",
    "            mask = create_layer_mask(lyr_patch, img_patch.shape[0])\n",
    "            yield img_patch, mask, fluid_patch, lyr_patch.T.tolist()\n",
    "            \n",
    "            \n",
    "def generate_dme_dataset(input_dir, output_dir, patch_width):\n",
    "    files = list(Path(input_dir).glob(\"*\"))\n",
    "    output_dir = Path(output_dir)\n",
    "    output_dir.mkdir()\n",
    "    cnt = 0\n",
    "    boundary_indices_dict = {}\n",
    "    layer_widths_dict = {}\n",
    "    for file in tqdm(files, desc=\"data generation\"):\n",
    "        data = loadmat(file)\n",
    "        layers = data[\"manualLayers1\"].transpose((2, 0, 1))\n",
    "        images = data[\"images\"].transpose((2, 0, 1))\n",
    "        fluids = data[\"manualFluid1\"].transpose((2, 0, 1))\n",
    "        for idx, (image, layer, fluid) in enumerate(zip(images, layers, fluids)):\n",
    "            patch_generator = create_patches(image, layer, patch_width, fluid)\n",
    "            for img, mask, fluid_patch, boundary_indices_list in patch_generator:\n",
    "                Image.fromarray(img).save(output_dir / f\"img_{cnt}.png\")\n",
    "                Image.fromarray(mask).save(output_dir / f\"mask_{cnt}.png\")\n",
    "                Image.fromarray(fluid_patch).save(output_dir / f\"fluid_{cnt}.png\")\n",
    "                boundary_indices_dict[cnt] = boundary_indices_list\n",
    "                cnt += 1\n",
    "    with open(output_dir / \"boundary_indices.json\", \"w\") as boundary_file:\n",
    "        json.dump(boundary_indices_dict, boundary_file)"
   ]
  },
  {
   "cell_type": "markdown",
   "id": "a95d11fd",
   "metadata": {},
   "source": [
    "## LOAD FILES"
   ]
  },
  {
   "cell_type": "code",
   "execution_count": 2,
   "id": "7bb59280",
   "metadata": {},
   "outputs": [],
   "source": [
    "dme = list(Path(\"../../dataset/raw/6-10\").glob(\"*\"))"
   ]
  },
  {
   "cell_type": "markdown",
   "id": "638064d7",
   "metadata": {},
   "source": [
    "## Compute segmentation range"
   ]
  },
  {
   "cell_type": "code",
   "execution_count": 3,
   "id": "4903a373",
   "metadata": {},
   "outputs": [],
   "source": [
    "# maxval = 0\n",
    "# minval = 496\n",
    "\n",
    "# for file in dme:\n",
    "#     data = loadmat(file)\n",
    "#     lyrs = data[\"manualLayers1\"]\n",
    "#     currmax = lyrs[~np.isnan(lyrs)].max()\n",
    "#     currmin = lyrs[~np.isnan(lyrs)].min()\n",
    "#     maxval = currmax if currmax > maxval else maxval\n",
    "#     minval = currmin if currmin < minval else minval\n",
    "    \n",
    "# print(minval)\n",
    "# print(maxval)"
   ]
  },
  {
   "cell_type": "markdown",
   "id": "19fe373d",
   "metadata": {},
   "source": [
    "## Show image"
   ]
  },
  {
   "cell_type": "code",
   "execution_count": 13,
   "id": "b3556b56",
   "metadata": {},
   "outputs": [
    {
     "data": {
      "text/plain": [
       "array([ 8, 13, 18, 23, 26, 28, 30, 33, 38, 43, 48])"
      ]
     },
     "execution_count": 13,
     "metadata": {},
     "output_type": "execute_result"
    }
   ],
   "source": [
    "data = loadmat(dme[0])\n",
    "np.where((~np.isnan(data[\"manualLayers1\"])).any(axis=(0, 1)))[0]\n",
    "# np.where((np.logical_and(data[\"manualFluid1\"] != 0,  ~np.isnan(data[\"manualFluid1\"])).any(axis=(0, 1))))[0]"
   ]
  },
  {
   "cell_type": "code",
   "execution_count": 156,
   "id": "21a673bb",
   "metadata": {},
   "outputs": [],
   "source": [
    "mask = np.array(Image.open(\"corrected/1-5/2-10-mask.png\"))\n",
    "img = np.array(Image.open(\"corrected/1-5/2-10-img.png\"))\n",
    "show_layers_from_mask(img, mask).show()"
   ]
  },
  {
   "cell_type": "code",
   "execution_count": 14,
   "id": "d9eb05a7",
   "metadata": {},
   "outputs": [],
   "source": [
    "idx = 8\n",
    "# idx = 25\n",
    "img = data[\"images\"][..., idx]\n",
    "lyr1 = data[\"manualLayers1\"][..., idx]\n",
    "lyr2 = data[\"manualLayers2\"][..., idx]\n",
    "fluid1 = data[\"manualFluid1\"][..., idx]\n",
    "fluid2 = data[\"manualFluid2\"][..., idx]\n",
    "\n",
    "xstart, xend = 0, 1000 #260\n",
    "ystart, yend = 0, 1000 #100, 660\n",
    "img = img[xstart:xend, ystart:yend]\n",
    "lyr1 = lyr1[:, ystart:yend]\n",
    "fluid1 = fluid1[xstart:xend, ystart:yend]\n",
    "# Image.fromarray(img).show()#.save(\"raw-scan.png\")\n",
    "# show_layers_from_boundary(img, lyr).show()\n",
    "# img[:, 298] = 255\n",
    "# show_layers_from_boundary(img, lyr1, fluid=fluid1).convert(mode=\"RGB\")#.save(\"raw-annotated-patch.png\")\n",
    "# show_layers_from_boundary(img, lyr2, fluid=fluid2).show()"
   ]
  },
  {
   "cell_type": "code",
   "execution_count": 12,
   "id": "c8e7ee7a",
   "metadata": {},
   "outputs": [
    {
     "data": {
      "text/plain": [
       "dtype('uint8')"
      ]
     },
     "execution_count": 12,
     "metadata": {},
     "output_type": "execute_result"
    }
   ],
   "source": [
    "data[\"images\"].dtype"
   ]
  },
  {
   "cell_type": "markdown",
   "id": "2426717e",
   "metadata": {},
   "source": [
    "## Annotated images"
   ]
  },
  {
   "cell_type": "code",
   "execution_count": 80,
   "id": "36de5964",
   "metadata": {},
   "outputs": [
    {
     "data": {
      "text/plain": [
       "{0: Counter({10: 3, 6: 1, 8: 1}),\n",
       " 1: Counter({15: 3, 11: 1, 13: 1}),\n",
       " 2: Counter({20: 3, 16: 1, 18: 1}),\n",
       " 3: Counter({25: 3, 21: 1, 23: 1}),\n",
       " 4: Counter({28: 3, 24: 1, 26: 1}),\n",
       " 5: Counter({30: 3, 26: 1, 28: 1}),\n",
       " 6: Counter({32: 3, 28: 1, 30: 1}),\n",
       " 7: Counter({35: 3, 31: 1, 33: 1}),\n",
       " 8: Counter({40: 3, 36: 1, 38: 1}),\n",
       " 9: Counter({45: 3, 41: 1, 43: 1}),\n",
       " 10: Counter({50: 3, 46: 1, 48: 1})}"
      ]
     },
     "execution_count": 80,
     "metadata": {},
     "output_type": "execute_result"
    }
   ],
   "source": [
    "# training\n",
    "dme = list(Path(\"../../dataset/raw/1-5\").glob(\"*\"))\n",
    "idxes = {i: [] for i in range(11)}\n",
    "for pat in dme:\n",
    "    data = loadmat(pat)\n",
    "    curr_idx = np.where((~np.isnan(data[\"manualLayers1\"])).any(axis=(0, 1)))[0]\n",
    "    for i, idx in enumerate(curr_idx):\n",
    "        idxes[i].append(idx)\n",
    "        \n",
    "idxes = {i: Counter(l) for i, l in idxes.items()}\n",
    "idxes"
   ]
  },
  {
   "cell_type": "code",
   "execution_count": 77,
   "id": "88ebbaf3",
   "metadata": {},
   "outputs": [],
   "source": [
    "# validation\n",
    "dme = list(Path(\"../../dataset/raw/6-10\").glob(\"*\"))\n",
    "idxes = {i: [] for i in range(11)}\n",
    "for pat in dme:\n",
    "    data = loadmat(pat)\n",
    "    curr_idx = np.where((~np.isnan(data[\"manualLayers1\"])).any(axis=(0, 1)))[0]\n",
    "    for i, idx in enumerate(curr_idx):\n",
    "        idxes[i].append(idx)\n",
    "        \n",
    "idxes = {i: Counter(l) for i, l in idxes.items()}\n",
    "idxes"
   ]
  },
  {
   "cell_type": "code",
   "execution_count": 82,
   "id": "31c49f0e",
   "metadata": {},
   "outputs": [],
   "source": [
    "from misc import get_loaders"
   ]
  },
  {
   "cell_type": "code",
   "execution_count": 133,
   "id": "361de012",
   "metadata": {},
   "outputs": [],
   "source": [
    "train_dl, valid_dl, mean_std = get_loaders(\"../../generated_corrected\", True, 496, 1, None, 2, False)\n",
    "fluid_g = ((x, (mask, fluid, layer)) for x, (mask, fluid, layer) in train_dl if fluid.any())"
   ]
  },
  {
   "cell_type": "code",
   "execution_count": 149,
   "id": "83a393ba",
   "metadata": {},
   "outputs": [],
   "source": [
    "x, (y, f, l) = next(fluid_g)\n",
    "show_layers_from_mask(x.squeeze(), y.squeeze(), mean_std).show()"
   ]
  },
  {
   "cell_type": "code",
   "execution_count": null,
   "id": "c40260ea",
   "metadata": {},
   "outputs": [],
   "source": []
  },
  {
   "cell_type": "markdown",
   "id": "422b4362",
   "metadata": {},
   "source": [
    "## Fluid content of the original data"
   ]
  },
  {
   "cell_type": "code",
   "execution_count": 1337,
   "id": "5b915ff8",
   "metadata": {},
   "outputs": [
    {
     "name": "stdout",
     "output_type": "stream",
     "text": [
      "1-5: 1.54\n"
     ]
    }
   ],
   "source": [
    "for ds in (\"1-5\",):\n",
    "    dme = list(Path(f\"../../dataset/raw/{ds}\").glob(\"*\"))\n",
    "    fluid_sum = 0\n",
    "    seg = 0\n",
    "    for pat in dme:\n",
    "        data = loadmat(pat)\n",
    "        for i in np.where((~np.isnan(data[\"manualLayers1\"])).any((0, 1)))[0]:\n",
    "            img = data[\"images\"][..., i]\n",
    "            lyr = data[\"manualLayers1\"][..., i]\n",
    "            fluid = data[\"manualFluid1\"][..., i]\n",
    "            not_nan = np.where((~np.isnan(lyr)).any(0))[0]\n",
    "            seg += 496 * (not_nan[-1] - not_nan[0])\n",
    "            curr_fluid = fluid[:, not_nan[0]:not_nan[-1]]\n",
    "            curr_fluid[curr_fluid != 0] = 1\n",
    "            fluid_sum += curr_fluid.sum()\n",
    "    print(f\"{ds}: {round(fluid_sum / seg * 100, 3)}\")"
   ]
  },
  {
   "cell_type": "markdown",
   "id": "9af21faa",
   "metadata": {},
   "source": [
    "## A-scans having indefined layer boundaries"
   ]
  },
  {
   "cell_type": "code",
   "execution_count": 104,
   "id": "60ca2c2a",
   "metadata": {},
   "outputs": [
    {
     "name": "stdout",
     "output_type": "stream",
     "text": [
      "invalid A-scan ratio: 7.625620452845585\n",
      "missing layer boundary ratio: 1.2328313048208335\n"
     ]
    }
   ],
   "source": [
    "ds = \"1-5\"\n",
    "dme = list(Path(f\"../../dataset/raw/{ds}\").glob(\"*\"))\n",
    "indef = 0\n",
    "num_a_scan = 0\n",
    "indefbnd = 0\n",
    "for pat in dme:\n",
    "    data = loadmat(pat)\n",
    "    lyrs = data[\"manualLayers1\"]\n",
    "    for i in np.where((~np.isnan(data[\"manualLayers1\"])).any((0, 1)))[0]:\n",
    "        lyr = lyrs[..., i]\n",
    "        any_ = np.where((~np.isnan(lyr)).any(0))[0]\n",
    "        all_ = np.where((~np.isnan(lyr)).all(0))[0]\n",
    "        num_a_scan += len(any_)\n",
    "        indef += len(any_) - len(all_)\n",
    "        indefbnd += np.isnan(lyr[:, any_[0]:any_[-1] + 1]).sum()\n",
    "            \n",
    "print(f\"invalid A-scan ratio: {(indef / num_a_scan) * 100}\")\n",
    "print(f\"missing layer boundary ratio: {(indefbnd / (num_a_scan * 8)) * 100}\")"
   ]
  },
  {
   "cell_type": "code",
   "execution_count": 106,
   "id": "6b12c5ac",
   "metadata": {},
   "outputs": [
    {
     "data": {
      "text/plain": [
       "0.04263275991024682"
      ]
     },
     "execution_count": 106,
     "metadata": {},
     "output_type": "execute_result"
    }
   ],
   "source": [
    "(num_a_scan - 440 * 64) / num_a_scan"
   ]
  },
  {
   "cell_type": "markdown",
   "id": "67dff912",
   "metadata": {},
   "source": [
    "## Correct image corners"
   ]
  },
  {
   "cell_type": "code",
   "execution_count": 2,
   "id": "387d89a3",
   "metadata": {},
   "outputs": [],
   "source": [
    "xc = np.tile(np.expand_dims(np.arange(496), 1), (1, 768))\n",
    "yc = np.tile(np.arange(768), (496, 1))"
   ]
  },
  {
   "cell_type": "code",
   "execution_count": 555,
   "id": "1f492cb6",
   "metadata": {},
   "outputs": [],
   "source": [
    "ds = '6-10'\n",
    "dme = list(Path(f\"../../dataset/raw/{ds}\").glob(\"*\"))"
   ]
  },
  {
   "cell_type": "code",
   "execution_count": 1128,
   "id": "d800fe67",
   "metadata": {},
   "outputs": [
    {
     "data": {
      "text/plain": [
       "array([10, 15, 20, 25, 28, 30, 32, 35, 40, 45, 50])"
      ]
     },
     "execution_count": 1128,
     "metadata": {},
     "output_type": "execute_result"
    }
   ],
   "source": [
    "pat = 4\n",
    "data = loadmat(dme[pat])\n",
    "np.where((~np.isnan(data[\"manualLayers1\"])).any(axis=(0, 1)))[0]"
   ]
  },
  {
   "cell_type": "code",
   "execution_count": 1265,
   "id": "7d419411",
   "metadata": {},
   "outputs": [],
   "source": [
    "scan = 50\n",
    "img = data[\"images\"][..., scan]\n",
    "lyr = data[\"manualLayers1\"][..., scan]\n",
    "fluid = data[\"manualFluid1\"][..., scan]"
   ]
  },
  {
   "cell_type": "code",
   "execution_count": 1266,
   "id": "ad0f2731",
   "metadata": {},
   "outputs": [],
   "source": [
    "Image.fromarray(img).show()"
   ]
  },
  {
   "cell_type": "code",
   "execution_count": 1282,
   "id": "7ebd88fa",
   "metadata": {},
   "outputs": [],
   "source": [
    "corner = np.zeros_like(img)\n",
    "w = -.0329\n",
    "corner[xc + w * yc < 11] = 1\n",
    "# corner[xc + w * yc > 492] = 1\n",
    "# corner[:, :1] = 1\n",
    "\n",
    "imgshow = img.copy()\n",
    "imgshow[corner != 0] = 0\n",
    "Image.fromarray(imgshow).show()\n",
    "Image.fromarray(corner).save(f\"corrected/{ds}/{pat}-{scan}-corner.png\")"
   ]
  },
  {
   "cell_type": "markdown",
   "id": "e5a108ee",
   "metadata": {},
   "source": [
    "## Add missing layer boundaries"
   ]
  },
  {
   "cell_type": "code",
   "execution_count": 159,
   "id": "b4c32356",
   "metadata": {},
   "outputs": [],
   "source": [
    "ds = '1-5'\n",
    "dme = list(Path(f\"../../dataset/raw/{ds}\").glob(\"*\"))"
   ]
  },
  {
   "cell_type": "code",
   "execution_count": 1114,
   "id": "60fdd1c0",
   "metadata": {},
   "outputs": [
    {
     "data": {
      "text/plain": [
       "array([10, 15, 20, 25, 28, 30, 32, 35, 40, 45, 50])"
      ]
     },
     "execution_count": 1114,
     "metadata": {},
     "output_type": "execute_result"
    }
   ],
   "source": [
    "pat = 2\n",
    "data = loadmat(dme[pat])\n",
    "np.where((~np.isnan(data[\"manualLayers1\"])).any(axis=(0, 1)))[0]"
   ]
  },
  {
   "cell_type": "code",
   "execution_count": 1115,
   "id": "25b8b1e1",
   "metadata": {},
   "outputs": [],
   "source": [
    "scan = 25\n",
    "img = data[\"images\"][..., scan]\n",
    "lyr = data[\"manualLayers1\"][..., scan]\n",
    "fluid = data[\"manualFluid1\"][..., scan]"
   ]
  },
  {
   "cell_type": "code",
   "execution_count": 1116,
   "id": "531ac72b",
   "metadata": {},
   "outputs": [],
   "source": [
    "TECH = 1\n",
    "\n",
    "mask = np.zeros_like(img)\n",
    "break_out = False\n",
    "for i in np.where((~np.isnan(lyr)).any(0))[0]:\n",
    "    prev = 0\n",
    "    for idx, j in enumerate(lyr[:, i]):\n",
    "        if np.isnan(j):\n",
    "            if TECH == 1:\n",
    "                border = np.where(fluid[:, i] != 0)[0][0]\n",
    "        else:\n",
    "            border = j\n",
    "        border = int(border)\n",
    "        mask[prev:border + 1, i] = idx\n",
    "        prev = border + 1\n",
    "        if break_out:\n",
    "            break\n",
    "    if break_out:\n",
    "        break\n",
    "\n",
    "mask[fluid != 0] = 9"
   ]
  },
  {
   "cell_type": "code",
   "execution_count": 1117,
   "id": "e4a5bc63",
   "metadata": {},
   "outputs": [],
   "source": [
    "show_layers_from_mask(img, mask).show()"
   ]
  },
  {
   "cell_type": "code",
   "execution_count": 1118,
   "id": "11e15b50",
   "metadata": {},
   "outputs": [],
   "source": [
    "show_layers_from_mask(img, mask).convert(mode=\"RGB\").save(\"test.png\")"
   ]
  },
  {
   "cell_type": "code",
   "execution_count": 1119,
   "id": "57511944",
   "metadata": {},
   "outputs": [],
   "source": [
    "Image.fromarray(img).save(f\"corrected/{ds}/{pat}-{scan}-img.png\")\n",
    "Image.fromarray(mask).save(f\"corrected/{ds}/{pat}-{scan}-mask.png\")"
   ]
  },
  {
   "cell_type": "code",
   "execution_count": 1312,
   "id": "ba9a7507",
   "metadata": {
    "scrolled": true
   },
   "outputs": [],
   "source": [
    "# check\n",
    "idx = 0\n",
    "path = sorted(list(Path(\"corrected/1-5\").glob(\"*img*\")))[idx].__str__()[:-7]\n",
    "img = np.array(Image.open(f\"{path}img.png\"))\n",
    "corner = np.array(Image.open(f\"{path}corner.png\"))"
   ]
  },
  {
   "cell_type": "code",
   "execution_count": 1313,
   "id": "8828c245",
   "metadata": {},
   "outputs": [],
   "source": [
    "# img[corner != 0] = 0\n",
    "Image.fromarray(img).show()"
   ]
  },
  {
   "cell_type": "markdown",
   "id": "3f6e95f3",
   "metadata": {},
   "source": [
    "## generate dataset from corrected"
   ]
  },
  {
   "cell_type": "code",
   "execution_count": 109,
   "id": "3fe77c73",
   "metadata": {},
   "outputs": [],
   "source": [
    "mapping = {\n",
    "    \"1-5\": {\n",
    "        0: 2,\n",
    "        1: 4,\n",
    "        2: 1,\n",
    "        3: 3,\n",
    "        4: 5\n",
    "    },\n",
    "    \"6-10\": {\n",
    "        0: 8,\n",
    "        1: 6,\n",
    "        2: 9,\n",
    "        3: 7,\n",
    "        4: 10\n",
    "    }\n",
    "}"
   ]
  },
  {
   "cell_type": "code",
   "execution_count": 116,
   "id": "eea7eb1f",
   "metadata": {
    "scrolled": true
   },
   "outputs": [],
   "source": [
    "training = True\n",
    "patch_width = 256\n",
    "centers = []\n",
    "ds = '1-5' if training else '6-10'\n",
    "corrected_path = \"corrected\"\n",
    "newds_dir = f\"../../corrected_ds/{'training' if training else 'validation'}/DME_{patch_width}\"\n",
    "Path(newds_dir).mkdir(parents=True)\n",
    "files = Path(f\"corrected/{ds}\").glob(\"*-img.png\")\n",
    "files = sorted(files)\n",
    "idx = 0\n",
    "fluid_sum = 0\n",
    "dme_loaded_for = -1\n",
    "for file in files:\n",
    "    base = str(file)[:-7]\n",
    "    img = np.array(Image.open(file))\n",
    "    mask = np.array(Image.open(f\"{base}mask.png\"))\n",
    "    corner = np.array(Image.open(f\"{base}corner.png\"))\n",
    "    pat, pat_idx = base.strip(\"-\").split(\"/\")[-1].split(\"-\")\n",
    "    if dme_loaded_for != pat:\n",
    "        act_pat = str(mapping[ds][int(pat)])\n",
    "        act_pat = \"0\" + act_pat if len(act_pat) == 1 else act_pat\n",
    "        data = loadmat(f\"../../dataset/raw/{ds}/Subject_{act_pat}.mat\")\n",
    "        dme_loaded_for = pat\n",
    "    lyr = data[\"manualLayers1\"][..., int(pat_idx)]\n",
    "    ascans = np.where((mask != 0).any(0))[0]\n",
    "    for ascan_idx in ascans:\n",
    "        ascan = mask[:, ascan_idx]\n",
    "        notbase = np.where(ascan != 0)[0]\n",
    "        ascan[notbase[-1] + 1:] = 8\n",
    "    length = (~np.isnan(mask).any())\n",
    "    length = (ascans[-1] - ascans[0]) // patch_width\n",
    "    for patch_idx in range(length):\n",
    "        curr_img = img[:, patch_idx * patch_width + ascans[0]:(patch_idx+1) * patch_width + ascans[0]]\n",
    "        curr_corner = corner[:, patch_idx * patch_width + ascans[0]:(patch_idx+1) * patch_width + ascans[0]]\n",
    "        curr_img[curr_corner != 0] = 0\n",
    "        curr_mask = mask[:, patch_idx * patch_width + ascans[0]:(patch_idx+1) * patch_width + ascans[0]]\n",
    "        curr_lyr = lyr[:,  patch_idx * patch_width + ascans[0]:(patch_idx+1) * patch_width + ascans[0]]\n",
    "        curr_fluid = np.zeros_like(curr_mask)\n",
    "        curr_fluid[curr_mask == 9] = 1\n",
    "        fluid_sum += (curr_mask == 9).sum()\n",
    "        Image.fromarray(curr_img).save(f\"{newds_dir}/img_{idx}.png\")\n",
    "        Image.fromarray(curr_mask).save(f\"{newds_dir}/mask_{idx}.png\")\n",
    "        Image.fromarray(curr_fluid).save(f\"{newds_dir}/fluid_{idx}.png\")\n",
    "        Image.fromarray(curr_corner).save(f\"{newds_dir}/corner_{idx}.png\")\n",
    "        torch.save(torch.from_numpy(curr_lyr), f\"{newds_dir}/lyr_{idx}.pkl\")\n",
    "        idx += 1"
   ]
  },
  {
   "cell_type": "code",
   "execution_count": 26,
   "id": "4e90c67f",
   "metadata": {},
   "outputs": [
    {
     "data": {
      "image/png": "[encoded data removed]",
      "text/plain": [
       "<Figure size 288x288 with 1 Axes>"
      ]
     },
     "metadata": {
      "needs_background": "light"
     },
     "output_type": "display_data"
    }
   ],
   "source": [
    "plt.figure(figsize=(4, 4))\n",
    "plt.hist(centers, bins=50)\n",
    "plt.xlabel(\"Center [px]\")\n",
    "plt.ylabel(\"Count\")\n",
    "plt.ylim(0, 60)\n",
    "plt.xlim(100, 700)\n",
    "plt.savefig(\"patch_center_distr_training.png\")"
   ]
  },
  {
   "cell_type": "code",
   "execution_count": 22,
   "id": "4172bbe8",
   "metadata": {},
   "outputs": [
    {
     "data": {
      "image/png": "[encoded data removed]",
      "text/plain": [
       "<Figure size 288x288 with 1 Axes>"
      ]
     },
     "metadata": {
      "needs_background": "light"
     },
     "output_type": "display_data"
    }
   ],
   "source": [
    "plt.figure(figsize=(4, 4))\n",
    "plt.hist(centers)\n",
    "plt.xlabel(\"Center [px]\")\n",
    "plt.ylabel(\"Count\")\n",
    "plt.ylim(0, 60)\n",
    "plt.xlim(100, 700)\n",
    "plt.savefig(\"patch_center_distr_training.png\")"
   ]
  },
  {
   "cell_type": "markdown",
   "id": "7a8329eb",
   "metadata": {},
   "source": [
    "## test"
   ]
  },
  {
   "cell_type": "code",
   "execution_count": 3,
   "id": "905c5656",
   "metadata": {},
   "outputs": [],
   "source": [
    "idx = 9\n",
    "pw = 496\n",
    "img = np.array(Image.open(f\"../../generated_corrected/training/DME_{pw}/img_{idx}.png\"))\n",
    "mask = np.array(Image.open(f\"../../generated_corrected/training/DME_{pw}/mask_{idx}.png\"))\n",
    "fluid = np.array(Image.open(f\"../../generated_corrected/training/DME_{pw}/fluid_{idx}.png\"))\n",
    "lyr = torch.load(f\"../../generated_corrected/training/DME_{pw}/lyr_{idx}.pkl\")"
   ]
  },
  {
   "cell_type": "code",
   "execution_count": 2,
   "id": "6726ec16",
   "metadata": {},
   "outputs": [],
   "source": [
    "from utils.misc import get_loaders, get_loaders_retlstm"
   ]
  },
  {
   "cell_type": "code",
   "execution_count": 2,
   "id": "7096957a",
   "metadata": {},
   "outputs": [],
   "source": [
    "torch.manual_seed(0)\n",
    "torch.cuda.manual_seed(0)\n",
    "np.random.seed(0)\n",
    "torch.backends.cudnn.enabled = False\n",
    "torch.backends.cudnn.deterministic = True"
   ]
  },
  {
   "cell_type": "code",
   "execution_count": 102,
   "id": "dcc3dd83",
   "metadata": {},
   "outputs": [],
   "source": [
    "import random\n",
    "torch.backends.cudnn.deterministic = True\n",
    "random.seed(1)\n",
    "torch.manual_seed(1)\n",
    "torch.cuda.manual_seed(1)\n",
    "np.random.seed(1)"
   ]
  },
  {
   "cell_type": "code",
   "execution_count": 70,
   "id": "3409f51b",
   "metadata": {},
   "outputs": [],
   "source": [
    "train_dl, valid_dl, mean_std = get_loaders_retlstm(\"../../corrected_ds\", 496, 1, None, True, True, True)\n",
    "train_it = iter(train_dl)\n",
    "# fluid_g = ((img, (mask, fluid, lyr)) for (img, (mask, fluid, lyr)))"
   ]
  },
  {
   "cell_type": "code",
   "execution_count": 71,
   "id": "8115a591",
   "metadata": {},
   "outputs": [],
   "source": [
    "x, _, corners, _ = next(iter(valid_dl))"
   ]
  },
  {
   "cell_type": "code",
   "execution_count": null,
   "id": "535e3f62",
   "metadata": {},
   "outputs": [],
   "source": []
  },
  {
   "cell_type": "code",
   "execution_count": 114,
   "id": "aabe163a",
   "metadata": {},
   "outputs": [],
   "source": [
    "i = torch.randn(8)"
   ]
  },
  {
   "cell_type": "code",
   "execution_count": 117,
   "id": "9f4ab227",
   "metadata": {},
   "outputs": [],
   "source": [
    "j = torch.randn(16, 8, 4, 8)"
   ]
  },
  {
   "cell_type": "code",
   "execution_count": 119,
   "id": "018fae1b",
   "metadata": {},
   "outputs": [
    {
     "data": {
      "text/plain": [
       "torch.Size([16, 8, 4, 8])"
      ]
     },
     "execution_count": 119,
     "metadata": {},
     "output_type": "execute_result"
    }
   ],
   "source": [
    "i.expand_as(j).shape"
   ]
  },
  {
   "cell_type": "code",
   "execution_count": 105,
   "id": "6286f4d8",
   "metadata": {},
   "outputs": [],
   "source": [
    "img, (mask, fluid, lyr) = next(train_it)\n",
    "show_layers_from_mask(img.squeeze(), mask.squeeze(), mean_std=mean_std).show()\n",
    "# show_layers_from_boundary(img, lyr, fluid=fluid).show()"
   ]
  },
  {
   "cell_type": "code",
   "execution_count": 3,
   "id": "18e998b7",
   "metadata": {},
   "outputs": [],
   "source": [
    "torch.manual_seed(0)\n",
    "np.random.seed(0)"
   ]
  },
  {
   "cell_type": "code",
   "execution_count": 104,
   "id": "ac8bc9e5",
   "metadata": {},
   "outputs": [
    {
     "name": "stderr",
     "output_type": "stream",
     "text": [
      "Exception ignored in: <function _MultiProcessingDataLoaderIter.__del__ at 0x7f2fc4634200>\n",
      "Traceback (most recent call last):\n",
      "  File \"/home/loerinczy/anaconda3/lib/python3.7/site-packages/torch/utils/data/dataloader.py\", line 1328, in __del__\n",
      "    self._shutdown_workers()\n",
      "  File \"/home/loerinczy/anaconda3/lib/python3.7/site-packages/torch/utils/data/dataloader.py\", line 1320, in _shutdown_workers\n",
      "    if w.is_alive():\n",
      "  File \"/home/loerinczy/anaconda3/lib/python3.7/multiprocessing/process.py\", line 151, in is_alive\n",
      "    assert self._parent_pid == os.getpid(), 'can only test a child process'\n",
      "AssertionError: can only test a child process\n",
      "Exception ignored in: <function _MultiProcessingDataLoaderIter.__del__ at 0x7f2fc4634200>\n",
      "Traceback (most recent call last):\n",
      "  File \"/home/loerinczy/anaconda3/lib/python3.7/site-packages/torch/utils/data/dataloader.py\", line 1328, in __del__\n",
      "    self._shutdown_workers()\n",
      "  File \"/home/loerinczy/anaconda3/lib/python3.7/site-packages/torch/utils/data/dataloader.py\", line 1320, in _shutdown_workers\n",
      "    if w.is_alive():\n",
      "  File \"/home/loerinczy/anaconda3/lib/python3.7/multiprocessing/process.py\", line 151, in is_alive\n",
      "    assert self._parent_pid == os.getpid(), 'can only test a child process'\n",
      "AssertionError: can only test a child process\n",
      "Exception ignored in: <function _MultiProcessingDataLoaderIter.__del__ at 0x7f2fc4634200>\n",
      "Traceback (most recent call last):\n",
      "  File \"/home/loerinczy/anaconda3/lib/python3.7/site-packages/torch/utils/data/dataloader.py\", line 1328, in __del__\n",
      "    self._shutdown_workers()\n",
      "  File \"/home/loerinczy/anaconda3/lib/python3.7/site-packages/torch/utils/data/dataloader.py\", line 1320, in _shutdown_workers\n",
      "    if w.is_alive():\n",
      "  File \"/home/loerinczy/anaconda3/lib/python3.7/multiprocessing/process.py\", line 151, in is_alive\n",
      "    assert self._parent_pid == os.getpid(), 'can only test a child process'\n",
      "AssertionError: can only test a child process\n",
      "Exception ignored in: <function _MultiProcessingDataLoaderIter.__del__ at 0x7f2fc4634200>\n",
      "Traceback (most recent call last):\n",
      "  File \"/home/loerinczy/anaconda3/lib/python3.7/site-packages/torch/utils/data/dataloader.py\", line 1328, in __del__\n",
      "    self._shutdown_workers()\n",
      "  File \"/home/loerinczy/anaconda3/lib/python3.7/site-packages/torch/utils/data/dataloader.py\", line 1320, in _shutdown_workers\n",
      "    if w.is_alive():\n",
      "  File \"/home/loerinczy/anaconda3/lib/python3.7/multiprocessing/process.py\", line 151, in is_alive\n",
      "    assert self._parent_pid == os.getpid(), 'can only test a child process'\n",
      "AssertionError: can only test a child process\n"
     ]
    }
   ],
   "source": [
    "x, _ = next(iter(train_dl))"
   ]
  },
  {
   "cell_type": "code",
   "execution_count": 107,
   "id": "33f44a3d",
   "metadata": {},
   "outputs": [],
   "source": [
    "d, _ = next(iter(train_dl))"
   ]
  },
  {
   "cell_type": "code",
   "execution_count": 108,
   "id": "3e45fa6d",
   "metadata": {},
   "outputs": [
    {
     "data": {
      "text/plain": [
       "False"
      ]
     },
     "execution_count": 108,
     "metadata": {},
     "output_type": "execute_result"
    }
   ],
   "source": [
    "x.allclose(d)"
   ]
  },
  {
   "cell_type": "code",
   "execution_count": 19,
   "id": "f6273b8f",
   "metadata": {},
   "outputs": [],
   "source": [
    "from torch import nn\n",
    "from relay_net.losses import DiceLoss\n",
    "from misc import get_loaders, get_fluid_boundary\n",
    "import torch.nn.functional as F\n",
    "\n",
    "class CombinedLoss(nn.Module):\n",
    "\n",
    "    def __init__(\n",
    "              self,\n",
    "              num_classes=9,\n",
    "              weight_channel_cross=None,\n",
    "              weight_channel_dice=None,\n",
    "              weight_boundary_cross=1.\n",
    "    ):\n",
    "        super(CombinedLoss, self).__init__()\n",
    "        self.cross_entropy_loss_fn = nn.CrossEntropyLoss()\n",
    "        self.dice_loss_fn = DiceLoss(weight_channel_dice, num_classes)\n",
    "        self.weight_channel_cross = (\n",
    "            weight_channel_cross if weight_channel_cross is not None\n",
    "            else torch.ones(num_classes)\n",
    "        )\n",
    "        self.weight_boundary_cross = weight_boundary_cross\n",
    "        self.num_classes = num_classes\n",
    "\n",
    "    def forward(self, predictions, targets):\n",
    "        if self.num_classes == 10:\n",
    "            targets, fluid = targets\n",
    "            fluid_boundary = get_fluid_boundary(fluid)\n",
    "        weight_boundary = F.pad(targets[:, 1:, :] - targets[:, :-1, :], (0, 0, 0, 1), \"constant\", 0)\n",
    "        weight_boundary[weight_boundary != 1] = 0\n",
    "        if self.num_classes == 10:\n",
    "            weight_boundary = torch.logical_or(weight_boundary, fluid_boundary)\n",
    "            targets[fluid.bool()] = 9\n",
    "#         return weight_boundary\n",
    "        wb = weight_boundary.clone()\n",
    "        weight_boundary = weight_boundary * self.weight_boundary_cross\n",
    "        weight_channel = torch.zeros(*targets.shape, self.num_classes, device=targets.device).scatter_(\n",
    "                  -1, targets.unsqueeze(-1), 1\n",
    "        )\n",
    "        weight_channel = weight_channel * self.weight_channel_cross\n",
    "        weight_channel = weight_channel.max(-1).values\n",
    "        return weight_channel, wb\n",
    "        weight = 1 + weight_boundary + weight_channel\n",
    "        weight /= weight.sum()\n",
    "        cross_entropy_loss = (self.cross_entropy_loss_fn(predictions, targets) * weight).sum()\n",
    "        dice_loss = self.dice_loss_fn(predictions, targets)\n",
    "        return cross_entropy_loss, dice_loss"
   ]
  },
  {
   "cell_type": "code",
   "execution_count": 94,
   "id": "0ee0a05b",
   "metadata": {},
   "outputs": [],
   "source": [
    "loss = CombinedLoss(10, torch.tensor([0, 5, 5, 5, 5, 5, 5, 5, 0, 5]).float())"
   ]
  },
  {
   "cell_type": "code",
   "execution_count": 95,
   "id": "ce0cdb59",
   "metadata": {},
   "outputs": [],
   "source": [
    "train_dl, valid_dl, mean_std = get_loaders(\"../../generated_corrected\", True, 496, 1, None, 2)\n",
    "train_it = iter(train_dl)"
   ]
  },
  {
   "cell_type": "code",
   "execution_count": 103,
   "id": "a40052f6",
   "metadata": {},
   "outputs": [],
   "source": [
    "# x, (y, f, l) = next(train_it)\n",
    "wc, wb = loss(x, (y.long(), f))\n",
    "Image.fromarray(wc.squeeze().byte().numpy() * 40).show()\n",
    "Image.fromarray(wb.squeeze().byte().numpy() * 255).show()"
   ]
  },
  {
   "cell_type": "code",
   "execution_count": null,
   "id": "8a8462f2",
   "metadata": {},
   "outputs": [],
   "source": []
  },
  {
   "cell_type": "code",
   "execution_count": 227,
   "id": "3a1fd048",
   "metadata": {},
   "outputs": [],
   "source": []
  },
  {
   "cell_type": "code",
   "execution_count": 321,
   "id": "7ed30e55",
   "metadata": {},
   "outputs": [],
   "source": [
    "model = nn.Linear(3, 1, bias=False)\n",
    "# model = nn.Sequential(\n",
    "#     nn.Linear(3, 3, bias=False),\n",
    "#     nn.ReLU(True),\n",
    "#     nn.Linear(3, 1, bias=False),\n",
    "# )\n",
    "optimizer = torch.optim.SGD(model.parameters(), lr=1e-3)\n",
    "loss_fn = nn.MSELoss()"
   ]
  },
  {
   "cell_type": "code",
   "execution_count": 327,
   "id": "52bf37fe",
   "metadata": {},
   "outputs": [],
   "source": [
    "losses = []\n",
    "preds = []\n",
    "for epoch in range(200):\n",
    "    for idx in range(20):\n",
    "        r = torch.randint(2, 3, (100,))\n",
    "        t = torch.zeros(100, 3)\n",
    "        t.scatter_(-1, r.unsqueeze(1), 1)\n",
    "#         t = t + 1e-3\n",
    "        r = r.float()\n",
    "        optimizer.zero_grad()\n",
    "        pred = model(t.squeeze().float())\n",
    "        preds += pred.flatten().tolist()\n",
    "#         r = (r - r.mean()) / r.std()\n",
    "#         pred = torch.tile(torch.tensor([0, 1, 2]), (100, 1)).float() @ t.T\n",
    "        loss = loss_fn(pred, r.float())\n",
    "        loss.backward()\n",
    "        optimizer.step()\n",
    "        losses.append(loss.item())"
   ]
  },
  {
   "cell_type": "code",
   "execution_count": 328,
   "id": "5d6fe945",
   "metadata": {},
   "outputs": [
    {
     "data": {
      "text/plain": [
       "Parameter containing:\n",
       "tensor([[-1.2696e-04,  9.9952e-01,  1.9993e+00]], requires_grad=True)"
      ]
     },
     "execution_count": 328,
     "metadata": {},
     "output_type": "execute_result"
    }
   ],
   "source": [
    "next(model.parameters())"
   ]
  },
  {
   "cell_type": "code",
   "execution_count": 314,
   "id": "05526bda",
   "metadata": {},
   "outputs": [
    {
     "data": {
      "text/plain": [
       "[<matplotlib.lines.Line2D at 0x7f7be2c4f9d0>]"
      ]
     },
     "execution_count": 314,
     "metadata": {},
     "output_type": "execute_result"
    },
    {
     "data": {
      "image/png": "[encoded data removed]",
      "text/plain": [
       "<Figure size 432x288 with 1 Axes>"
      ]
     },
     "metadata": {
      "needs_background": "light"
     },
     "output_type": "display_data"
    }
   ],
   "source": [
    "plt.plot(preds)"
   ]
  },
  {
   "cell_type": "code",
   "execution_count": 313,
   "id": "9438c937",
   "metadata": {},
   "outputs": [
    {
     "data": {
      "text/plain": [
       "[<matplotlib.lines.Line2D at 0x7f7bf81ea1d0>]"
      ]
     },
     "execution_count": 313,
     "metadata": {},
     "output_type": "execute_result"
    },
    {
     "data": {
      "image/png": "[encoded data removed]",
      "text/plain": [
       "<Figure size 432x288 with 1 Axes>"
      ]
     },
     "metadata": {
      "needs_background": "light"
     },
     "output_type": "display_data"
    }
   ],
   "source": [
    "plt.plot(losses)"
   ]
  },
  {
   "cell_type": "code",
   "execution_count": 109,
   "id": "4f736a6b",
   "metadata": {},
   "outputs": [],
   "source": [
    "train_dl, valid_dl, mean_std = get_loaders_retlstm(\"../../generated_corrected\", 64, 32, None, 2)\n",
    "train_it = iter(train_dl)"
   ]
  },
  {
   "cell_type": "code",
   "execution_count": 110,
   "id": "e61fead1",
   "metadata": {},
   "outputs": [],
   "source": [
    "for x, y in train_dl:\n",
    "    if y.isnan().all():\n",
    "        print(\"error\")"
   ]
  },
  {
   "cell_type": "code",
   "execution_count": 14,
   "id": "a036f7e9",
   "metadata": {},
   "outputs": [],
   "source": [
    "x, y = next(train_it)\n",
    "x = (x * mean_std[1] + mean_std[0]) * 255\n",
    "y = (y * mean_std[3] + mean_std[2]) * 496\n",
    "show_layers_from_boundary(x.T.byte(), y,).show()"
   ]
  },
  {
   "cell_type": "code",
   "execution_count": 17,
   "id": "d7fe729f",
   "metadata": {},
   "outputs": [],
   "source": [
    "a = np.random.randint(0, 10, (4, 4))"
   ]
  },
  {
   "cell_type": "code",
   "execution_count": 21,
   "id": "34b54161",
   "metadata": {},
   "outputs": [
    {
     "data": {
      "text/plain": [
       "array([6, 0, 9, 9])"
      ]
     },
     "execution_count": 21,
     "metadata": {},
     "output_type": "execute_result"
    }
   ],
   "source": [
    "a[:, 0]"
   ]
  },
  {
   "cell_type": "code",
   "execution_count": 15,
   "id": "ff5c2bd6",
   "metadata": {},
   "outputs": [],
   "source": [
    "from metric import contour_error"
   ]
  },
  {
   "cell_type": "code",
   "execution_count": 37,
   "id": "ce02b593",
   "metadata": {},
   "outputs": [
    {
     "data": {
      "text/plain": [
       "(array([4, 4, 4, 4]), array([246, 247, 293, 294]))"
      ]
     },
     "execution_count": 37,
     "metadata": {},
     "output_type": "execute_result"
    }
   ],
   "source": [
    "np.where(np.isnan(y.numpy()))"
   ]
  },
  {
   "cell_type": "code",
   "execution_count": 139,
   "id": "2f8da403",
   "metadata": {},
   "outputs": [],
   "source": [
    "data = loadmat(\"../../dataset/raw/6-10/Subject_06.mat\")"
   ]
  },
  {
   "cell_type": "code",
   "execution_count": 140,
   "id": "8b334ba9",
   "metadata": {},
   "outputs": [],
   "source": [
    "lyr = data[\"manualLayers1\"][..., 13]\n",
    "img = data[\"images\"][..., 13]"
   ]
  },
  {
   "cell_type": "code",
   "execution_count": 1312,
   "id": "69a15e0f",
   "metadata": {},
   "outputs": [],
   "source": [
    "mask = np.array(Image.open('corrected/1-5/0-30-mask.png'))\n",
    "img = np.array(Image.open('corrected/1-5/0-30-img.png'))\n",
    "ascans = np.where((mask != 0).any(0))[0]\n",
    "for ascan_idx in ascans:\n",
    "    ascan = mask[:, ascan_idx]\n",
    "    notbase = np.where(ascan != 0)[0]\n",
    "    ascan[notbase[-1] + 1:] = 8"
   ]
  },
  {
   "cell_type": "code",
   "execution_count": 1313,
   "id": "e09004c7",
   "metadata": {},
   "outputs": [],
   "source": [
    "fluid = np.zeros_like(mask, dtype=int)\n",
    "fluid[mask == 9] = 1"
   ]
  },
  {
   "cell_type": "code",
   "execution_count": 1314,
   "id": "04f61544",
   "metadata": {},
   "outputs": [],
   "source": [
    "# shifted = fluid[:, 1:] - fluid[:, :-1]\n",
    "# x, y = np.where(shifted == -1)\n",
    "# y = y - 1\n",
    "# shifted[shifted != 1] = 0\n",
    "# shifted[x, y] = 1\n",
    "# mask1 = np.pad(shifted, ((0, 0), (1, 0)), \"constant\", constant_values=0)\n",
    "# shifted = fluid[1:, :] - fluid[:-1, :]\n",
    "# x, y = np.where(shifted == -1)\n",
    "# x = x - 1\n",
    "# shifted[shifted != 1] = 0\n",
    "# shifted[x, y] = 1\n",
    "# mask2 = np.pad(shifted, ((1, 0), (0, 0)), \"constant\", constant_values=0)\n",
    "# mask = np.logical_or(mask1, mask2).astype(float)"
   ]
  },
  {
   "cell_type": "code",
   "execution_count": 1315,
   "id": "edfdfe99",
   "metadata": {},
   "outputs": [],
   "source": [
    "mask[mask == 9] = 100"
   ]
  },
  {
   "cell_type": "code",
   "execution_count": 1316,
   "id": "abbab221",
   "metadata": {},
   "outputs": [],
   "source": [
    "shifted = mask[1:, :] - mask[:-1, :]\n",
    "mask = np.pad(shifted, ((1, 0), (0, 0)), \"constant\", constant_values=0)\n",
    "mask[mask != 1] = 0"
   ]
  },
  {
   "cell_type": "code",
   "execution_count": 1317,
   "id": "a3a48ed1",
   "metadata": {},
   "outputs": [],
   "source": [
    "Image.fromarray((mask * 254).astype(\"uint8\")).show()"
   ]
  },
  {
   "cell_type": "code",
   "execution_count": 1208,
   "id": "250f3a19",
   "metadata": {},
   "outputs": [],
   "source": [
    "Image.fromarray(fmask.squeeze().numpy() * 255).show()"
   ]
  },
  {
   "cell_type": "code",
   "execution_count": 1179,
   "id": "bdf1bfc2",
   "metadata": {},
   "outputs": [],
   "source": [
    "show_layers_from_mask(img, mask).show()"
   ]
  },
  {
   "cell_type": "code",
   "execution_count": 1190,
   "id": "3d34c844",
   "metadata": {},
   "outputs": [],
   "source": [
    "idx = 3\n",
    "img = np.array(Image.open(f\"../../generated/training/DME_496/img_{idx}.png\"))\n",
    "mask = np.array(Image.open(f\"../../generated/training/DME_496/mask_{idx}.png\"))\n",
    "fluid = np.array(Image.open(f\"../../generated/training/DME_496/fluid_{idx}.png\"))"
   ]
  },
  {
   "cell_type": "code",
   "execution_count": 1193,
   "id": "3d87f6b4",
   "metadata": {},
   "outputs": [],
   "source": [
    "from utils.misc import get_fluid_boundary"
   ]
  },
  {
   "cell_type": "code",
   "execution_count": 1195,
   "id": "ea08ae74",
   "metadata": {},
   "outputs": [],
   "source": [
    "fmask = get_fluid_boundary(torch.from_numpy(fluid).unsqueeze(0))"
   ]
  },
  {
   "cell_type": "markdown",
   "id": "321fbcef",
   "metadata": {},
   "source": [
    "# Plot boundary mask"
   ]
  },
  {
   "cell_type": "code",
   "execution_count": 2,
   "id": "9aab37c5",
   "metadata": {},
   "outputs": [],
   "source": [
    "from utils.misc import get_loaders, get_fluid_boundary\n",
    "import torch.nn.functional as F"
   ]
  },
  {
   "cell_type": "code",
   "execution_count": 4,
   "id": "4db9c323",
   "metadata": {},
   "outputs": [
    {
     "ename": "ValueError",
     "evalue": "not enough values to unpack (expected 3, got 2)",
     "output_type": "error",
     "traceback": [
      "\u001b[0;31m-------------------------------------------------------------\u001b[0m",
      "\u001b[0;31mValueError\u001b[0m                  Traceback (most recent call last)",
      "\u001b[0;32m<ipython-input-4-ac7bf81033c5>\u001b[0m in \u001b[0;36m<module>\u001b[0;34m\u001b[0m\n\u001b[0;32m----> 1\u001b[0;31m \u001b[0mtrain_dl\u001b[0m\u001b[0;34m,\u001b[0m \u001b[0mvalid_dl\u001b[0m\u001b[0;34m,\u001b[0m \u001b[0mmean_std\u001b[0m \u001b[0;34m=\u001b[0m \u001b[0mget_loaders\u001b[0m\u001b[0;34m(\u001b[0m\u001b[0;34m\"../../corrected_ds\"\u001b[0m\u001b[0;34m,\u001b[0m \u001b[0;32mTrue\u001b[0m\u001b[0;34m,\u001b[0m \u001b[0;36m496\u001b[0m\u001b[0;34m,\u001b[0m \u001b[0;36m1\u001b[0m\u001b[0;34m,\u001b[0m \u001b[0;32mNone\u001b[0m\u001b[0;34m,\u001b[0m \u001b[0;36m2\u001b[0m\u001b[0;34m)\u001b[0m\u001b[0;34m\u001b[0m\u001b[0;34m\u001b[0m\u001b[0m\n\u001b[0m\u001b[1;32m      2\u001b[0m \u001b[0mfluid_g\u001b[0m \u001b[0;34m=\u001b[0m \u001b[0;34m(\u001b[0m\u001b[0;34m(\u001b[0m\u001b[0mx\u001b[0m\u001b[0;34m,\u001b[0m \u001b[0;34m(\u001b[0m\u001b[0mmask\u001b[0m\u001b[0;34m,\u001b[0m \u001b[0mfluid\u001b[0m\u001b[0;34m,\u001b[0m \u001b[0mlayer\u001b[0m\u001b[0;34m)\u001b[0m\u001b[0;34m)\u001b[0m \u001b[0;32mfor\u001b[0m \u001b[0mx\u001b[0m\u001b[0;34m,\u001b[0m \u001b[0;34m(\u001b[0m\u001b[0mmask\u001b[0m\u001b[0;34m,\u001b[0m \u001b[0mfluid\u001b[0m\u001b[0;34m,\u001b[0m \u001b[0mlayer\u001b[0m\u001b[0;34m)\u001b[0m \u001b[0;32min\u001b[0m \u001b[0mvalid_dl\u001b[0m \u001b[0;32mif\u001b[0m \u001b[0mfluid\u001b[0m\u001b[0;34m.\u001b[0m\u001b[0many\u001b[0m\u001b[0;34m(\u001b[0m\u001b[0;34m)\u001b[0m\u001b[0;34m.\u001b[0m\u001b[0mitem\u001b[0m\u001b[0;34m(\u001b[0m\u001b[0;34m)\u001b[0m\u001b[0;34m)\u001b[0m\u001b[0;34m\u001b[0m\u001b[0;34m\u001b[0m\u001b[0m\n",
      "\u001b[0;32m~/Desktop/thesis/code/utils/misc.py\u001b[0m in \u001b[0;36mget_loaders\u001b[0;34m(data_dir, fluid, patch_width, batch_size, train_transform, num_workers, shuffle_training)\u001b[0m\n\u001b[1;32m     94\u001b[0m     \u001b[0mdata_dir\u001b[0m \u001b[0;34m=\u001b[0m \u001b[0mPath\u001b[0m\u001b[0;34m(\u001b[0m\u001b[0mdata_dir\u001b[0m\u001b[0;34m)\u001b[0m\u001b[0;34m\u001b[0m\u001b[0;34m\u001b[0m\u001b[0m\n\u001b[1;32m     95\u001b[0m     \u001b[0mtrain_ds\u001b[0m \u001b[0;34m=\u001b[0m \u001b[0mOCTDataset\u001b[0m\u001b[0;34m(\u001b[0m\u001b[0mdata_dir\u001b[0m \u001b[0;34m/\u001b[0m \u001b[0;34m\"training\"\u001b[0m \u001b[0;34m/\u001b[0m \u001b[0;34mf\"DME_{patch_width}\"\u001b[0m\u001b[0;34m,\u001b[0m \u001b[0mfluid\u001b[0m\u001b[0;34m)\u001b[0m\u001b[0;34m\u001b[0m\u001b[0;34m\u001b[0m\u001b[0m\n\u001b[0;32m---> 96\u001b[0;31m     \u001b[0mmean_std\u001b[0m \u001b[0;34m=\u001b[0m \u001b[0mget_mean_std\u001b[0m\u001b[0;34m(\u001b[0m\u001b[0mSubset\u001b[0m\u001b[0;34m(\u001b[0m\u001b[0mtrain_ds\u001b[0m\u001b[0;34m,\u001b[0m \u001b[0mrange\u001b[0m\u001b[0;34m(\u001b[0m\u001b[0mlen\u001b[0m\u001b[0;34m(\u001b[0m\u001b[0mtrain_ds\u001b[0m\u001b[0;34m)\u001b[0m\u001b[0;34m)\u001b[0m\u001b[0;34m)\u001b[0m\u001b[0;34m)\u001b[0m\u001b[0;34m\u001b[0m\u001b[0;34m\u001b[0m\u001b[0m\n\u001b[0m\u001b[1;32m     97\u001b[0m     \u001b[0mnorm\u001b[0m \u001b[0;34m=\u001b[0m \u001b[0mA\u001b[0m\u001b[0;34m.\u001b[0m\u001b[0mNormalize\u001b[0m\u001b[0;34m(\u001b[0m\u001b[0;34m(\u001b[0m\u001b[0mmean_std\u001b[0m\u001b[0;34m[\u001b[0m\u001b[0;36m0\u001b[0m\u001b[0;34m]\u001b[0m\u001b[0;34m,\u001b[0m\u001b[0;34m)\u001b[0m\u001b[0;34m,\u001b[0m \u001b[0;34m(\u001b[0m\u001b[0mmean_std\u001b[0m\u001b[0;34m[\u001b[0m\u001b[0;36m1\u001b[0m\u001b[0;34m]\u001b[0m\u001b[0;34m,\u001b[0m\u001b[0;34m)\u001b[0m\u001b[0;34m,\u001b[0m \u001b[0mmax_pixel_value\u001b[0m\u001b[0;34m=\u001b[0m\u001b[0;36m1.\u001b[0m\u001b[0;34m,\u001b[0m \u001b[0malways_apply\u001b[0m\u001b[0;34m=\u001b[0m\u001b[0;32mTrue\u001b[0m\u001b[0;34m)\u001b[0m\u001b[0;34m\u001b[0m\u001b[0;34m\u001b[0m\u001b[0m\n\u001b[1;32m     98\u001b[0m     \u001b[0;32mif\u001b[0m \u001b[0mfluid\u001b[0m\u001b[0;34m:\u001b[0m\u001b[0;34m\u001b[0m\u001b[0;34m\u001b[0m\u001b[0m\n",
      "\u001b[0;32m~/Desktop/thesis/code/utils/misc.py\u001b[0m in \u001b[0;36mget_mean_std\u001b[0;34m(ds, retlstm)\u001b[0m\n\u001b[1;32m     62\u001b[0m         \u001b[0my_mean\u001b[0m \u001b[0;34m=\u001b[0m \u001b[0;36m0\u001b[0m\u001b[0;34m\u001b[0m\u001b[0;34m\u001b[0m\u001b[0m\n\u001b[1;32m     63\u001b[0m         \u001b[0my_square_mean\u001b[0m \u001b[0;34m=\u001b[0m \u001b[0;36m0\u001b[0m\u001b[0;34m\u001b[0m\u001b[0;34m\u001b[0m\u001b[0m\n\u001b[0;32m---> 64\u001b[0;31m     \u001b[0;32mfor\u001b[0m \u001b[0mx\u001b[0m\u001b[0;34m,\u001b[0m \u001b[0my\u001b[0m\u001b[0;34m,\u001b[0m \u001b[0mcorner\u001b[0m \u001b[0;32min\u001b[0m \u001b[0mds\u001b[0m\u001b[0;34m:\u001b[0m\u001b[0;34m\u001b[0m\u001b[0;34m\u001b[0m\u001b[0m\n\u001b[0m\u001b[1;32m     65\u001b[0m         \u001b[0mx_not_corner\u001b[0m \u001b[0;34m=\u001b[0m \u001b[0mx\u001b[0m\u001b[0;34m[\u001b[0m\u001b[0mcorner\u001b[0m \u001b[0;34m!=\u001b[0m \u001b[0;36m1\u001b[0m\u001b[0;34m]\u001b[0m\u001b[0;34m\u001b[0m\u001b[0;34m\u001b[0m\u001b[0m\n\u001b[1;32m     66\u001b[0m         \u001b[0mx_mean\u001b[0m \u001b[0;34m+=\u001b[0m \u001b[0mx_not_corner\u001b[0m\u001b[0;34m.\u001b[0m\u001b[0msum\u001b[0m\u001b[0;34m(\u001b[0m\u001b[0;34m)\u001b[0m\u001b[0;34m\u001b[0m\u001b[0;34m\u001b[0m\u001b[0m\n",
      "\u001b[0;31mValueError\u001b[0m: not enough values to unpack (expected 3, got 2)"
     ]
    }
   ],
   "source": [
    "train_dl, valid_dl, mean_std = get_loaders(\"../../corrected_ds\", True, 496, 1, None, 2)\n",
    "fluid_g = ((x, (mask, fluid, layer)) for x, (mask, fluid, layer) in valid_dl if fluid.any().item())"
   ]
  },
  {
   "cell_type": "code",
   "execution_count": 66,
   "id": "0a493d0d",
   "metadata": {},
   "outputs": [],
   "source": [
    "# x, (y, f, l) = next(fluid_g)\n",
    "# xc = x.clone()\n",
    "yf = y.clone()\n",
    "yf[f.bool()] = 9\n",
    "# x = xc[:, 80:300]\n",
    "y = y.int()\n",
    "# show_layers_from_mask(x.squeeze(), torch.zeros_like(x.squeeze()), mean_std).convert(mode=\"RGB\").show()#.save(\"cover.png\")\n",
    "boundary = F.pad(y[:, 1:, :] - y[:, :-1, :], (0, 0, 0, 1), \"constant\", 0)\n",
    "boundary[boundary != 1 ] = 0\n",
    "fmask = get_fluid_boundary(f)\n",
    "bf = torch.logical_or(boundary, fmask)\n",
    "# Image.fromarray(boundary.byte().squeeze().numpy() * 255).convert(mode=\"RGB\").show()#.save(\"mask.png\")\n",
    "# Image.fromarray(fmask.byte().squeeze().numpy() * 255).convert(mode=\"RGB\").show()#.save(\"mask.png\")\n",
    "# Image.fromarray(bf.byte().squeeze().numpy() * 255).convert(mode=\"RGB\").show()#.save(\"mask.png\")\n",
    "fluid = fmask.squeeze().numpy()\n",
    "orig_img = ((x.squeeze() * mean_std[1] + mean_std[0]) * 255).clip(0).numpy()\n",
    "\n",
    "img2 = Image.fromarray(\n",
    "    np.array([\n",
    "        np.ones_like(fluid, dtype=\"uint8\") * 150,\n",
    "        np.ones_like(fluid, dtype=\"uint8\") * 0,\n",
    "        np.ones_like(fluid, dtype=\"uint8\") * 255]).transpose((1, 2, 0)), mode=\"HSV\")\n",
    "\n",
    "img = Image.fromarray(np.array([\n",
    "    np.zeros_like(orig_img).astype(\"uint8\"),\n",
    "    np.zeros_like(orig_img).astype(\"uint8\"),\n",
    "    orig_img.astype(\"uint8\"),]).transpose((1, 2, 0)), mode=\"HSV\")\n",
    "\n",
    "Image.composite(img2, img, Image.fromarray(fluid.astype(\"uint8\") * 255)).convert(mode=\"RGB\").show()#.save(\"raw-image-with-boundary.png\")\n",
    "img.show()\n",
    "# Image.fromarray(img2.astype(\"uint8\") * 255).show()"
   ]
  },
  {
   "cell_type": "code",
   "execution_count": 41,
   "id": "495c531c",
   "metadata": {},
   "outputs": [],
   "source": [
    "fluid = fmask.squeeze().numpy()\n",
    "orig_img = ((x.squeeze() * mean_std[1] + mean_std[0]) * 255).clip(0).numpy()\n",
    "\n",
    "img2 = Image.fromarray(\n",
    "    np.array([\n",
    "        np.ones_like(fluid, dtype=\"uint8\") * 150,\n",
    "        np.ones_like(fluid, dtype=\"uint8\") * 0,\n",
    "        np.ones_like(fluid, dtype=\"uint8\") * 255]).transpose((1, 2, 0)), mode=\"HSV\")\n",
    "\n",
    "img = Image.fromarray(np.array([\n",
    "    np.zeros_like(orig_img).astype(\"uint8\"),\n",
    "    np.zeros_like(orig_img).astype(\"uint8\"),\n",
    "    orig_img.astype(\"uint8\"),]).transpose((1, 2, 0)), mode=\"HSV\")\n",
    "\n",
    "Image.composite(img2, img, Image.fromarray(fluid.astype(\"uint8\") * 255)).convert(mode=\"RGB\").show()#.save(\"raw-image-with-boundary.png\")\n",
    "img.show()\n",
    "# Image.fromarray(img2.astype(\"uint8\") * 255).show()"
   ]
  },
  {
   "cell_type": "markdown",
   "id": "b7c5eeea",
   "metadata": {},
   "source": [
    "## Add fluid boundary weighting"
   ]
  },
  {
   "cell_type": "code",
   "execution_count": 242,
   "id": "a5a06a0e",
   "metadata": {},
   "outputs": [],
   "source": [
    "# numpy version\n",
    "\n",
    "shifted = fluid[:, 1:] - fluid[:, :-1]\n",
    "x, y = np.where(shifted == -1)\n",
    "y = y - 1\n",
    "shifted[shifted != 1] = 0\n",
    "shifted[x, y] = -1\n",
    "shifted[shifted != 0] = 1\n",
    "mask1 = np.pad(shifted, ((0, 0), (1, 0)), \"constant\", constant_values=0)\n",
    "shifted = fluid[1:, :] - fluid[:-1, :]\n",
    "x, y = np.where(shifted == -1)\n",
    "x = x - 1\n",
    "shifted[shifted != 1] = 0\n",
    "shifted[x, y] = -1\n",
    "shifted[shifted != 0] = 1\n",
    "mask2 = np.pad(shifted, ((1, 0), (0, 0)), \"constant\", constant_values=0)\n",
    "mask = np.logical_or(mask1, mask2).astype(float)\n",
    "\n",
    "\n",
    "# torch version\n",
    "shifted = f[:, 1:] - f[:, :-1]\n",
    "x, y = torch.where(shifted == -1)\n",
    "y = y - 1\n",
    "shifted[shifted != 1] = 0\n",
    "shifted[x, y] = 1\n",
    "mask1 = torch.nn.functional.pad(shifted, (1, 0, 0, 0), \"constant\", 0)\n",
    "shifted = f[1:, :] - f[:-1, :]\n",
    "x, y = torch.where(shifted == -1)\n",
    "x = x - 1\n",
    "shifted[shifted != 1] = 0\n",
    "shifted[x, y] = 1\n",
    "mask2 = torch.nn.functional.pad(shifted, (0, 0, 1, 0), \"constant\", 0)\n",
    "mask = torch.logical_or(mask1, mask2).int()"
   ]
  },
  {
   "cell_type": "code",
   "execution_count": 1184,
   "id": "b649967a",
   "metadata": {},
   "outputs": [],
   "source": [
    "idx = 3\n",
    "img = np.array(Image.open(f\"../../generated/training/DME_496/img_{idx}.png\"))\n",
    "lyr = np.array(Image.open(f\"../../generated/training/DME_496/mask_{idx}.png\"))\n",
    "fluid = np.array(Image.open(f\"../../generated/training/DME_496/fluid_{idx}.png\"))"
   ]
  },
  {
   "cell_type": "markdown",
   "id": "d94c48e2",
   "metadata": {},
   "source": [
    "## Colorcoding"
   ]
  },
  {
   "cell_type": "code",
   "execution_count": 8,
   "id": "0e0b7703",
   "metadata": {},
   "outputs": [],
   "source": [
    "img_zero = np.zeros_like(img)\n",
    "lyr_zero = np.zeros_like(lyr)\n",
    "\n",
    "for i in range(1, 8):\n",
    "    lyr_zero[(i-1) * 62:i * 62] = i\n",
    "lyr_zero[496-62:496] = 9\n",
    "\n",
    "show_layers_from_mask(img_zero, lyr_zero).convert(mode=\"RGB\").save(\"colorcoding.png\")"
   ]
  },
  {
   "cell_type": "markdown",
   "id": "b48afab8",
   "metadata": {},
   "source": [
    "## Consensus between experts"
   ]
  },
  {
   "cell_type": "code",
   "execution_count": 22,
   "id": "599cde71",
   "metadata": {},
   "outputs": [],
   "source": [
    "train_dl, valid_dl, _ = get_loaders(\"../../generated\", True, 64, 32, None, 2)"
   ]
  },
  {
   "cell_type": "code",
   "execution_count": 23,
   "id": "c5876e69",
   "metadata": {},
   "outputs": [],
   "source": [
    "from utils.metric import Metric, dice_acc"
   ]
  },
  {
   "cell_type": "code",
   "execution_count": 24,
   "id": "0d0d452c",
   "metadata": {},
   "outputs": [],
   "source": [
    "dice = Metric(0, 9)\n",
    "for x, (y, f) in valid_dl:"
   ]
  },
  {
   "cell_type": "code",
   "execution_count": null,
   "id": "5acedc8b",
   "metadata": {},
   "outputs": [],
   "source": []
  },
  {
   "cell_type": "markdown",
   "id": "b93472e2",
   "metadata": {},
   "source": [
    "### Compute segmented length"
   ]
  },
  {
   "cell_type": "code",
   "execution_count": 320,
   "id": "171e58ea",
   "metadata": {},
   "outputs": [],
   "source": [
    "data = loadmat(\"../../dataset/raw/2015_BOE_Chiu/Subject_02.mat\")"
   ]
  },
  {
   "cell_type": "code",
   "execution_count": 321,
   "id": "64d05c24",
   "metadata": {},
   "outputs": [],
   "source": [
    "idx = 28"
   ]
  },
  {
   "cell_type": "code",
   "execution_count": 322,
   "id": "211f72c6",
   "metadata": {},
   "outputs": [],
   "source": [
    "img = data[\"images\"][..., idx]\n",
    "lyr = data[\"manualLayers1\"][..., idx]"
   ]
  },
  {
   "cell_type": "code",
   "execution_count": 323,
   "id": "8e5e5f77",
   "metadata": {},
   "outputs": [],
   "source": [
    "show_layers_from_boundary_array(img, lyr.T).show()"
   ]
  },
  {
   "cell_type": "code",
   "execution_count": 65,
   "id": "fb954515",
   "metadata": {},
   "outputs": [
    {
     "data": {
      "text/plain": [
       "Counter({(523, 523): 33,\n",
       "         (547, 547): 11,\n",
       "         (535, 535): 11,\n",
       "         (541, 541): 33,\n",
       "         (505, 505): 11,\n",
       "         (499, 499): 11})"
      ]
     },
     "execution_count": 65,
     "metadata": {},
     "output_type": "execute_result"
    }
   ],
   "source": [
    "segmented_length = list()\n",
    "\n",
    "for d in range(10):\n",
    "    data = loadmat(dme[d])\n",
    "    for lyr_ind in range(61):\n",
    "        m1 = data[\"manualLayers1\"][..., lyr_ind]\n",
    "        m2 = data[\"manualLayers2\"][..., lyr_ind]\n",
    "        lengths = [] \n",
    "        if (~np.isnan(m1)).any():\n",
    "            w_idx = np.where(~np.isnan(m1))[1]\n",
    "            delta = w_idx[-1] - w_idx[0]\n",
    "            lengths.append(delta)\n",
    "        else:\n",
    "            lengths.append(0)\n",
    "        if (~np.isnan(m2)).any():\n",
    "            w_idx = np.where(~np.isnan(m2))[1]\n",
    "            delta = w_idx[-1] - w_idx[0]\n",
    "            lengths.append(delta)\n",
    "        else:\n",
    "            lengths.append(0)\n",
    "        if sum(lengths):\n",
    "            segmented_length.append(tuple(lengths))\n",
    "            \n",
    "Counter(segmented_length)"
   ]
  },
  {
   "cell_type": "code",
   "execution_count": 5,
   "id": "1965afe9",
   "metadata": {},
   "outputs": [],
   "source": [
    "dme496img = sorted(list(Path(\"../../generated/DME_496/\").glob(\"img*\")))\n",
    "dme496mask = sorted(list(Path(\"../../generated/DME_496\").glob(\"mask*\")))"
   ]
  },
  {
   "cell_type": "code",
   "execution_count": 6,
   "id": "5549ad21",
   "metadata": {},
   "outputs": [],
   "source": [
    "img = np.array(Image.open(dme496img[0]))\n",
    "mask = np.array(Image.open(dme496mask[0]))"
   ]
  },
  {
   "cell_type": "code",
   "execution_count": 8,
   "id": "7d2cd3bf",
   "metadata": {},
   "outputs": [],
   "source": [
    "show_layers_from_mask_array(img, mask).show()"
   ]
  },
  {
   "cell_type": "markdown",
   "id": "311c7154",
   "metadata": {},
   "source": [
    "# Generating the dataset"
   ]
  },
  {
   "cell_type": "code",
   "execution_count": 9,
   "id": "a9c66c10",
   "metadata": {},
   "outputs": [],
   "source": [
    "mid_list = []"
   ]
  },
  {
   "cell_type": "code",
   "execution_count": 10,
   "id": "f70f6845",
   "metadata": {},
   "outputs": [
    {
     "name": "stderr",
     "output_type": "stream",
     "text": [
      "data generation: 100%|██████████| 5/5 [00:09<00:00,  1.98s/it]\n"
     ]
    }
   ],
   "source": [
    "patch_width = 64\n",
    "# generate_dme_dataset(\"../../dataset/raw/1-5\", f\"../../generated/training/DME_{patch_width}\", patch_width)\n",
    "# generate_dme_dataset(\"../../dataset/raw/6-10\", f\"../../generated/validation/DME_{patch_width}\", patch_width)\n",
    "# len(list(Path(f\"../../generated/training/DME_{patch_width}\").glob(\"img*\")))"
   ]
  },
  {
   "cell_type": "code",
   "execution_count": 11,
   "id": "e4de51f3",
   "metadata": {},
   "outputs": [],
   "source": [
    "# save\n",
    "with open(\"validation_patch_center_64.pkl\", \"wb\") as file:\n",
    "    pickle.dump(mid_list, file)"
   ]
  },
  {
   "cell_type": "code",
   "execution_count": 18,
   "id": "6ce6128a",
   "metadata": {},
   "outputs": [],
   "source": [
    "# load\n",
    "with open(\"training_patch_center_64.pkl\", \"rb\") as file:\n",
    "    mid_list = pickle.load(file)"
   ]
  },
  {
   "cell_type": "code",
   "execution_count": 19,
   "id": "b3c29d7f",
   "metadata": {},
   "outputs": [
    {
     "data": {
      "image/png": "[encoded data removed]",
      "text/plain": [
       "<Figure size 288x288 with 1 Axes>"
      ]
     },
     "metadata": {
      "needs_background": "light"
     },
     "output_type": "display_data"
    }
   ],
   "source": [
    "plt.figure(figsize=(4, 4))\n",
    "plt.hist(mid_list)\n",
    "plt.xlabel(\"Center [px]\")\n",
    "plt.ylabel(\"Count\")\n",
    "plt.ylim(0, 60)\n",
    "plt.xlim(100, 700)\n",
    "plt.savefig(\"patch_center_distr_training.png\")"
   ]
  },
  {
   "cell_type": "code",
   "execution_count": 29,
   "id": "028bf9ff",
   "metadata": {},
   "outputs": [
    {
     "data": {
      "text/plain": [
       "0.871111111111111"
      ]
     },
     "execution_count": 29,
     "metadata": {},
     "output_type": "execute_result"
    }
   ],
   "source": [
    "(.99 + .83 + .86 + .77 + .75 + .91 + .89 + .84 + 1) / 9"
   ]
  },
  {
   "cell_type": "markdown",
   "id": "8b10264e",
   "metadata": {},
   "source": [
    "# Proove that the layer mask generation is correct"
   ]
  },
  {
   "cell_type": "code",
   "execution_count": 149,
   "id": "05de6358",
   "metadata": {},
   "outputs": [
    {
     "data": {
      "text/plain": [
       "0"
      ]
     },
     "execution_count": 149,
     "metadata": {},
     "output_type": "execute_result"
    }
   ],
   "source": [
    "bmask = create_boundary_mask(lyr[:, 500:600], 496)\n",
    "lmask = create_layer_mask(lyr[:, 500:600], 496)\n",
    "diff = np.diff(lmask, axis=0)\n",
    "(np.pad(diff, ((0, 1), (0, 0)), constant_values=(0,)) != bmask).sum()"
   ]
  },
  {
   "cell_type": "markdown",
   "id": "179cffdc",
   "metadata": {},
   "source": [
    "# AMD"
   ]
  },
  {
   "cell_type": "code",
   "execution_count": 10,
   "id": "48ebf543",
   "metadata": {},
   "outputs": [],
   "source": [
    "data = loadmat(amd[0])\n",
    "idx = 30\n",
    "img = data[\"images\"][:, :, idx]\n",
    "lyr = data[\"layerMaps\"][idx]"
   ]
  },
  {
   "cell_type": "code",
   "execution_count": 14,
   "id": "3d9d3d43",
   "metadata": {},
   "outputs": [],
   "source": [
    "def generate_amd_dataset(amd_dir, control_dir, output_dir, patch_width):\n",
    "    files = list(\n",
    "        chain(\n",
    "            Path(amd_dir).glob(\"*\"),\n",
    "            Path(control_dir).glob(\"*\")\n",
    "        )\n",
    "    )\n",
    "    output_dir = Path(output_dir)\n",
    "    output_dir.mkdir()\n",
    "    cnt = 0\n",
    "    for file in tqdm(files, desc=\"data generation\"):\n",
    "        data = loadmat(file)\n",
    "        layers = data[\"layerMaps\"].transpose((0, 2, 1))\n",
    "        images = data[\"images\"].transpose((2, 0, 1))\n",
    "        for idx, (image, layer) in enumerate(zip(images, layers)):\n",
    "            patch_generator = create_patches(image, layer, patch_width)\n",
    "            for img, mask in patch_generator:\n",
    "                Image.fromarray(img).save(output_dir / f\"img_{cnt}.png\")\n",
    "                Image.fromarray(mask).save(output_dir / f\"mask_{cnt}.png\")\n",
    "                cnt += 1"
   ]
  },
  {
   "cell_type": "code",
   "execution_count": 34,
   "id": "9e74c9aa",
   "metadata": {},
   "outputs": [
    {
     "name": "stderr",
     "output_type": "stream",
     "text": [
      "data generation: 100%|██████████| 384/384 [04:31<00:00,  1.42it/s]\n"
     ]
    }
   ],
   "source": [
    "patch_width = 736\n",
    "generate_amd_dataset(\n",
    "    \"../../dataset/raw/AMD/\",\n",
    "    \"../../dataset/raw/Control/\",\n",
    "    f\"../../generated/AMD_{patch_width}\",\n",
    "    patch_width\n",
    ")"
   ]
  },
  {
   "cell_type": "code",
   "execution_count": 35,
   "id": "fc9f00e2",
   "metadata": {},
   "outputs": [
    {
     "data": {
      "text/plain": [
       "2901"
      ]
     },
     "execution_count": 35,
     "metadata": {},
     "output_type": "execute_result"
    }
   ],
   "source": [
    "len(list(Path(\"../../generated/AMD_736\").glob(\"img*\")))"
   ]
  },
  {
   "cell_type": "code",
   "execution_count": 26,
   "id": "48f72b7a",
   "metadata": {},
   "outputs": [
    {
     "data": {
      "text/plain": [
       "784"
      ]
     },
     "execution_count": 26,
     "metadata": {},
     "output_type": "execute_result"
    }
   ],
   "source": [
    "mod = nn.Sequ"
   ]
  },
  {
   "cell_type": "code",
   "execution_count": 33,
   "id": "a4b9dbfd",
   "metadata": {},
   "outputs": [
    {
     "data": {
      "text/plain": [
       "46.0"
      ]
     },
     "execution_count": 33,
     "metadata": {},
     "output_type": "execute_result"
    }
   ],
   "source": [
    "736 / 16"
   ]
  },
  {
   "cell_type": "code",
   "execution_count": 11,
   "id": "04795051",
   "metadata": {},
   "outputs": [],
   "source": [
    "show_layers_from_boundary_array(img, lyr).show()\n",
    "show_boundary_from_boundary_array(img, lyr).show()"
   ]
  },
  {
   "cell_type": "code",
   "execution_count": null,
   "id": "00ae7380",
   "metadata": {},
   "outputs": [],
   "source": []
  }
 ],
 "metadata": {
  "kernelspec": {
   "display_name": "Python 3",
   "language": "python",
   "name": "python3"
  },
  "language_info": {
   "codemirror_mode": {
    "name": "ipython",
    "version": 3
   },
   "file_extension": ".py",
   "mimetype": "text/x-python",
   "name": "python",
   "nbconvert_exporter": "python",
   "pygments_lexer": "ipython3",
   "version": "3.7.9"
  }
 },
 "nbformat": 4,
 "nbformat_minor": 5
}
