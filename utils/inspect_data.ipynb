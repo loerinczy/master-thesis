{
 "cells": [
  {
   "cell_type": "code",
   "execution_count": 1,
   "id": "cf72087e",
   "metadata": {},
   "outputs": [],
   "source": [
    "from PIL import Image\n",
    "from scipy.io import loadmat\n",
    "import numpy as np\n",
    "from pathlib import Path\n",
    "from tqdm import tqdm\n",
    "import itertools\n",
    "from scipy.ndimage.morphology import distance_transform_edt\n",
    "from collections import Counter\n",
    "from itertools import chain\n",
    "import json\n",
    "import torch\n",
    "\n",
    "from utils.show import show_layers_from_mask, show_layers_from_boundary\n",
    "\n",
    "                        \n",
    "def boundary_length_distribution(folder):\n",
    "    lengths = []\n",
    "    for file in folder:\n",
    "        data = loadmat(file)\n",
    "        for bscan in data[\"layerMaps\"]:\n",
    "            x_inds, _ = np.where(~np.isnan(bscan))\n",
    "            if x_inds.any():\n",
    "                lengths.append(x_inds[-1] - x_inds[0])\n",
    "    return lengths\n",
    "\n",
    "\n",
    "def boundary_middle_distribution(folder):\n",
    "    middles = []\n",
    "    for file in folder:\n",
    "        data = loadmat(file)\n",
    "        for bscan in data[\"layerMaps\"]:\n",
    "            x_inds, _ = np.where(~np.isnan(bscan))\n",
    "            if x_inds.any():\n",
    "                middles.append(x_inds[len(x_inds) // 2])\n",
    "    return middles\n",
    "            \n",
    "\n",
    "                \n",
    "def create_boundary_mask(boundary_array, height):\n",
    "    mask = np.zeros((height, boundary_array.shape[1]), dtype=\"uint8\")\n",
    "    for col_idx, col in enumerate(boundary_array.T):\n",
    "        if ~np.isnan(col).any():\n",
    "            for boundary in col:\n",
    "                mask[int(boundary), col_idx] = 1\n",
    "    return mask\n",
    "\n",
    "\n",
    "def create_layer_mask(boundary_array, height):\n",
    "    mask = np.zeros((height, boundary_array.shape[1]), dtype=\"uint8\")\n",
    "    for col_idx, col in enumerate(boundary_array.T):\n",
    "        prev_boundary = 0\n",
    "        for boundary_idx, boundary in enumerate(col):\n",
    "            mask[prev_boundary:int(boundary) + 1, col_idx] = boundary_idx\n",
    "            prev_boundary = int(boundary) + 1\n",
    "        mask[prev_boundary:, col_idx] = boundary_idx + 1\n",
    "    return mask\n",
    "\n",
    "\n",
    "def create_patches(img, lyr, patch_width, fluid):\n",
    "    idx = np.where((np.isnan(lyr)).any(axis=0))[0]\n",
    "    diff = np.diff(idx)\n",
    "    useful_parts = diff >= patch_width\n",
    "    useful_lengths = diff[useful_parts]\n",
    "    useful_start_idx = idx[np.pad(useful_parts, (0, 1), constant_values=[False])]\n",
    "    for ustart, ulength in zip(useful_start_idx, useful_lengths):\n",
    "        number_of_shifts = (ulength - 1) // patch_width\n",
    "        for shift_idx in range(number_of_shifts):\n",
    "            indices = (slice(None), slice(\n",
    "                ustart + 1 + shift_idx * patch_width, ustart + 1 + (shift_idx + 1) * patch_width\n",
    "            ))\n",
    "            mid_list.append(int((ustart + 1 + shift_idx * patch_width + ustart + 1 + (shift_idx + 1) * patch_width) / 2))\n",
    "            img_patch = img[indices]\n",
    "            lyr_patch = lyr[indices]\n",
    "            fluid_patch = fluid[indices]\n",
    "            if np.isnan(fluid_patch).any():\n",
    "                fluid_patch = np.zeros_like(img_patch)\n",
    "            else:\n",
    "                fluid_patch = fluid_patch.astype(img_patch.dtype)\n",
    "                fluid_patch[fluid_patch != 0] = 1\n",
    "            mask = create_layer_mask(lyr_patch, img_patch.shape[0])\n",
    "            yield img_patch, mask, fluid_patch, lyr_patch.T.tolist()\n",
    "            \n",
    "            \n",
    "def generate_dme_dataset(input_dir, output_dir, patch_width):\n",
    "    files = list(Path(input_dir).glob(\"*\"))\n",
    "    output_dir = Path(output_dir)\n",
    "    output_dir.mkdir()\n",
    "    cnt = 0\n",
    "    boundary_indices_dict = {}\n",
    "    layer_widths_dict = {}\n",
    "    for file in tqdm(files, desc=\"data generation\"):\n",
    "        data = loadmat(file)\n",
    "        layers = data[\"manualLayers1\"].transpose((2, 0, 1))\n",
    "        images = data[\"images\"].transpose((2, 0, 1))\n",
    "        fluids = data[\"manualFluid1\"].transpose((2, 0, 1))\n",
    "        for idx, (image, layer, fluid) in enumerate(zip(images, layers, fluids)):\n",
    "            patch_generator = create_patches(image, layer, patch_width, fluid)\n",
    "            for img, mask, fluid_patch, boundary_indices_list in patch_generator:\n",
    "                Image.fromarray(img).save(output_dir / f\"img_{cnt}.png\")\n",
    "                Image.fromarray(mask).save(output_dir / f\"mask_{cnt}.png\")\n",
    "                Image.fromarray(fluid_patch).save(output_dir / f\"fluid_{cnt}.png\")\n",
    "                boundary_indices_dict[cnt] = boundary_indices_list\n",
    "                cnt += 1\n",
    "    with open(output_dir / \"boundary_indices.json\", \"w\") as boundary_file:\n",
    "        json.dump(boundary_indices_dict, boundary_file)"
   ]
  },
  {
   "cell_type": "markdown",
   "id": "e0dfd7c0",
   "metadata": {},
   "source": [
    "# LOAD FILES"
   ]
  },
  {
   "cell_type": "code",
   "execution_count": 2,
   "id": "1adf6261",
   "metadata": {},
   "outputs": [],
   "source": [
    "amd = list(Path(\"../../dataset/raw/AMD/\").glob(\"*\"))\n",
    "control = list(Path(\"../../dataset/raw/Control/\").glob(\"*\"))\n",
    "# dme = list(Path(\"../../dataset/raw/2015_BOE_Chiu/\").glob(\"*\"))\n",
    "dme = list(Path(\"../../dataset/raw/1-5\").glob(\"*\"))"
   ]
  },
  {
   "cell_type": "code",
   "execution_count": null,
   "id": "85d505b1",
   "metadata": {},
   "outputs": [],
   "source": []
  },
  {
   "cell_type": "code",
   "execution_count": 3,
   "id": "888a8029",
   "metadata": {},
   "outputs": [],
   "source": [
    "maxval = 0\n",
    "minval = 496\n",
    "\n",
    "for file in dme:\n",
    "    data = loadmat(file)\n",
    "    lyrs = data[\"manualLayers1\"]\n",
    "    currmax = lyrs[~np.isnan(lyrs)].max()\n",
    "    currmin = lyrs[~np.isnan(lyrs)].min()\n",
    "    maxval = currmax if currmax > maxval else maxval\n",
    "    minval = currmin if currmin < minval else minval"
   ]
  },
  {
   "cell_type": "code",
   "execution_count": 4,
   "id": "8bf8ae0c",
   "metadata": {},
   "outputs": [
    {
     "name": "stdout",
     "output_type": "stream",
     "text": [
      "46.0\n",
      "307.0\n"
     ]
    }
   ],
   "source": [
    "print(minval)\n",
    "print(maxval)"
   ]
  },
  {
   "cell_type": "markdown",
   "id": "2e975b5b",
   "metadata": {},
   "source": [
    "# DME"
   ]
  },
  {
   "cell_type": "code",
   "execution_count": 152,
   "id": "c3d0fe33",
   "metadata": {},
   "outputs": [
    {
     "data": {
      "text/plain": [
       "array([10, 15, 20, 25, 28, 30, 32, 35, 40, 45, 50])"
      ]
     },
     "execution_count": 152,
     "metadata": {},
     "output_type": "execute_result"
    }
   ],
   "source": [
    "data = loadmat(dme[0])\n",
    "np.where((~np.isnan(data[\"manualFluid1\"])).any(axis=(0, 1)))[0]"
   ]
  },
  {
   "cell_type": "code",
   "execution_count": 153,
   "id": "47280685",
   "metadata": {},
   "outputs": [],
   "source": [
    "# idx = 30\n",
    "idx = 25\n",
    "img = data[\"images\"][..., idx]\n",
    "lyr1 = data[\"manualLayers1\"][..., idx]\n",
    "lyr2 = data[\"manualLayers2\"][..., idx]\n",
    "fluid1 = data[\"manualFluid1\"][..., idx]\n",
    "fluid2 = data[\"manualFluid2\"][..., idx]\n",
    "\n",
    "\n",
    "Image.fromarray(img).show()\n",
    "# show_layers_from_boundary(img, lyr).show()\n",
    "show_layers_from_boundary(img, lyr1, fluid=fluid1).show()\n",
    "# show_layers_from_boundary(img, lyr2, fluid=fluid2).show()"
   ]
  },
  {
   "cell_type": "code",
   "execution_count": 7,
   "id": "457cda9c",
   "metadata": {},
   "outputs": [
    {
     "data": {
      "text/plain": [
       "(496, 768)"
      ]
     },
     "execution_count": 7,
     "metadata": {},
     "output_type": "execute_result"
    }
   ],
   "source": [
    "img.shape"
   ]
  },
  {
   "cell_type": "markdown",
   "id": "447c7f0d",
   "metadata": {},
   "source": [
    "# Plot boundary mask"
   ]
  },
  {
   "cell_type": "code",
   "execution_count": 80,
   "id": "fb5030af",
   "metadata": {},
   "outputs": [],
   "source": [
    "from utils.misc import get_loaders, get_fluid_boundary\n",
    "import torch.nn.functional as F"
   ]
  },
  {
   "cell_type": "code",
   "execution_count": 91,
   "id": "6bdaeb3e",
   "metadata": {},
   "outputs": [],
   "source": [
    "train_dl, valid_dl, mean_std = get_loaders(\"../../generated\", True, 496, 1, None, 2)\n",
    "fluid_g = ((x, (mask, fluid)) for x, (mask, fluid) in train_dl if fluid.any())"
   ]
  },
  {
   "cell_type": "code",
   "execution_count": 94,
   "id": "a87169cd",
   "metadata": {},
   "outputs": [],
   "source": [
    "# x, (y, f) = next(fluid_g)\n",
    "yf = y.clone()\n",
    "yf[f.bool()] = 9\n",
    "show_layers_from_mask(x.squeeze(), yf.squeeze(), mean_std).convert(mode=\"RGB\").show()\n",
    "boundary = F.pad(y[:, 1:, :] - y[:, :-1, :], (0, 0, 0, 1), \"constant\", 0)\n",
    "fmask = get_fluid_boundary(f)\n",
    "bf = torch.logical_or(boundary, fmask)\n",
    "Image.fromarray(bf.byte().squeeze().numpy() * 255).convert(mode=\"RGB\").save(\"mask.png\")"
   ]
  },
  {
   "cell_type": "code",
   "execution_count": 163,
   "id": "bff46387",
   "metadata": {},
   "outputs": [],
   "source": [
    "fluid = bf.squeeze().numpy()\n",
    "orig_img = ((x.squeeze() * mean_std[1] + mean_std[0]) * 255).clip(0).numpy()\n",
    "\n",
    "img2 = Image.fromarray(\n",
    "    np.array([\n",
    "        np.ones_like(fluid, dtype=\"uint8\") * 100,\n",
    "        np.ones_like(fluid, dtype=\"uint8\") * 190,\n",
    "        np.ones_like(fluid, dtype=\"uint8\") * 255]).transpose((1, 2, 0)), mode=\"HSV\")\n",
    "\n",
    "img = Image.fromarray(np.array([\n",
    "    np.zeros_like(orig_img).astype(\"uint8\"),\n",
    "    np.zeros_like(orig_img).astype(\"uint8\"),\n",
    "    orig_img.astype(\"uint8\"),]).transpose((1, 2, 0)), mode=\"HSV\")\n",
    "\n",
    "Image.composite(img2, img, Image.fromarray(fluid.astype(\"uint8\") * 255)).convert(mode=\"RGB\").save(\"img_with_b.png\")\n",
    "img.show()\n",
    "Image.fromarray(fluid.astype(\"uint8\") * 255).show()"
   ]
  },
  {
   "cell_type": "code",
   "execution_count": 144,
   "id": "82774495",
   "metadata": {},
   "outputs": [],
   "source": []
  },
  {
   "cell_type": "code",
   "execution_count": null,
   "id": "c0169005",
   "metadata": {},
   "outputs": [],
   "source": []
  },
  {
   "cell_type": "code",
   "execution_count": 136,
   "id": "2e5fa51e",
   "metadata": {},
   "outputs": [
    {
     "data": {
      "text/plain": [
       "0.0"
      ]
     },
     "execution_count": 136,
     "metadata": {},
     "output_type": "execute_result"
    }
   ],
   "source": [
    "orig_img.min()"
   ]
  },
  {
   "cell_type": "code",
   "execution_count": 102,
   "id": "21b5674d",
   "metadata": {},
   "outputs": [],
   "source": [
    "Image.composite?"
   ]
  },
  {
   "cell_type": "markdown",
   "id": "14eef5c1",
   "metadata": {},
   "source": [
    "## Add fluid boundary weighting"
   ]
  },
  {
   "cell_type": "code",
   "execution_count": 242,
   "id": "25215b2d",
   "metadata": {},
   "outputs": [],
   "source": [
    "# numpy version\n",
    "\n",
    "shifted = fluid[:, 1:] - fluid[:, :-1]\n",
    "x, y = np.where(shifted == -1)\n",
    "y = y - 1\n",
    "shifted[shifted != 1] = 0\n",
    "shifted[x, y] = -1\n",
    "shifted[shifted != 0] = 1\n",
    "mask1 = np.pad(shifted, ((0, 0), (1, 0)), \"constant\", constant_values=0)\n",
    "shifted = fluid[1:, :] - fluid[:-1, :]\n",
    "x, y = np.where(shifted == -1)\n",
    "x = x - 1\n",
    "shifted[shifted != 1] = 0\n",
    "shifted[x, y] = -1\n",
    "shifted[shifted != 0] = 1\n",
    "mask2 = np.pad(shifted, ((1, 0), (0, 0)), \"constant\", constant_values=0)\n",
    "mask = np.logical_or(mask1, mask2).astype(float)\n",
    "\n",
    "\n",
    "# torch version\n",
    "shifted = f[:, 1:] - f[:, :-1]\n",
    "x, y = torch.where(shifted == -1)\n",
    "y = y - 1\n",
    "shifted[shifted != 1] = 0\n",
    "shifted[x, y] = 1\n",
    "mask1 = torch.nn.functional.pad(shifted, (1, 0, 0, 0), \"constant\", 0)\n",
    "shifted = f[1:, :] - f[:-1, :]\n",
    "x, y = torch.where(shifted == -1)\n",
    "x = x - 1\n",
    "shifted[shifted != 1] = 0\n",
    "shifted[x, y] = 1\n",
    "mask2 = torch.nn.functional.pad(shifted, (0, 0, 1, 0), \"constant\", 0)\n",
    "mask = torch.logical_or(mask1, mask2).int()"
   ]
  },
  {
   "cell_type": "code",
   "execution_count": 7,
   "id": "663a4c28",
   "metadata": {},
   "outputs": [],
   "source": [
    "idx = 12\n",
    "img = np.array(Image.open(f\"../../generated/DME_496/img_{idx}.png\"))\n",
    "lyr = np.array(Image.open(f\"../../generated/DME_496/mask_{idx}.png\"))"
   ]
  },
  {
   "cell_type": "code",
   "execution_count": 8,
   "id": "32a6af72",
   "metadata": {},
   "outputs": [],
   "source": [
    "show_layers_from_mask_array(img, lyr).show()"
   ]
  },
  {
   "cell_type": "code",
   "execution_count": 13,
   "id": "b2a7b2a7",
   "metadata": {},
   "outputs": [],
   "source": [
    "show_layers_from_boundary_array(img, lyr2.T).show()\n",
    "show_layers_from_boundary_array(img, lyr.T).show()"
   ]
  },
  {
   "cell_type": "markdown",
   "id": "7e2f7426",
   "metadata": {},
   "source": [
    "### Compute segmented length"
   ]
  },
  {
   "cell_type": "code",
   "execution_count": 320,
   "id": "7220525a",
   "metadata": {},
   "outputs": [],
   "source": [
    "data = loadmat(\"../../dataset/raw/2015_BOE_Chiu/Subject_02.mat\")"
   ]
  },
  {
   "cell_type": "code",
   "execution_count": 321,
   "id": "8befa7c4",
   "metadata": {},
   "outputs": [],
   "source": [
    "idx = 28"
   ]
  },
  {
   "cell_type": "code",
   "execution_count": 322,
   "id": "e9cd3f84",
   "metadata": {},
   "outputs": [],
   "source": [
    "img = data[\"images\"][..., idx]\n",
    "lyr = data[\"manualLayers1\"][..., idx]"
   ]
  },
  {
   "cell_type": "code",
   "execution_count": 323,
   "id": "169f743e",
   "metadata": {},
   "outputs": [],
   "source": [
    "show_layers_from_boundary_array(img, lyr.T).show()"
   ]
  },
  {
   "cell_type": "code",
   "execution_count": 65,
   "id": "39c2b17e",
   "metadata": {},
   "outputs": [
    {
     "data": {
      "text/plain": [
       "Counter({(523, 523): 33,\n",
       "         (547, 547): 11,\n",
       "         (535, 535): 11,\n",
       "         (541, 541): 33,\n",
       "         (505, 505): 11,\n",
       "         (499, 499): 11})"
      ]
     },
     "execution_count": 65,
     "metadata": {},
     "output_type": "execute_result"
    }
   ],
   "source": [
    "segmented_length = list()\n",
    "\n",
    "for d in range(10):\n",
    "    data = loadmat(dme[d])\n",
    "    for lyr_ind in range(61):\n",
    "        m1 = data[\"manualLayers1\"][..., lyr_ind]\n",
    "        m2 = data[\"manualLayers2\"][..., lyr_ind]\n",
    "        lengths = [] \n",
    "        if (~np.isnan(m1)).any():\n",
    "            w_idx = np.where(~np.isnan(m1))[1]\n",
    "            delta = w_idx[-1] - w_idx[0]\n",
    "            lengths.append(delta)\n",
    "        else:\n",
    "            lengths.append(0)\n",
    "        if (~np.isnan(m2)).any():\n",
    "            w_idx = np.where(~np.isnan(m2))[1]\n",
    "            delta = w_idx[-1] - w_idx[0]\n",
    "            lengths.append(delta)\n",
    "        else:\n",
    "            lengths.append(0)\n",
    "        if sum(lengths):\n",
    "            segmented_length.append(tuple(lengths))\n",
    "            \n",
    "Counter(segmented_length)"
   ]
  },
  {
   "cell_type": "code",
   "execution_count": 5,
   "id": "5c1d5f41",
   "metadata": {},
   "outputs": [],
   "source": [
    "dme496img = sorted(list(Path(\"../../generated/DME_496/\").glob(\"img*\")))\n",
    "dme496mask = sorted(list(Path(\"../../generated/DME_496\").glob(\"mask*\")))"
   ]
  },
  {
   "cell_type": "code",
   "execution_count": 6,
   "id": "54a72a4d",
   "metadata": {},
   "outputs": [],
   "source": [
    "img = np.array(Image.open(dme496img[0]))\n",
    "mask = np.array(Image.open(dme496mask[0]))"
   ]
  },
  {
   "cell_type": "code",
   "execution_count": 8,
   "id": "aac59f68",
   "metadata": {},
   "outputs": [],
   "source": [
    "show_layers_from_mask_array(img, mask).show()"
   ]
  },
  {
   "cell_type": "markdown",
   "id": "33c12f27",
   "metadata": {},
   "source": [
    "# There are parts where not all the layers are annotated"
   ]
  },
  {
   "cell_type": "code",
   "execution_count": 6,
   "id": "4e5008d9",
   "metadata": {},
   "outputs": [
    {
     "data": {
      "text/plain": [
       "array([  0,   0,   0,   0, 127,   0,   0,   0])"
      ]
     },
     "execution_count": 6,
     "metadata": {},
     "output_type": "execute_result"
    }
   ],
   "source": [
    "# for d in range(10):\n",
    "#     data = loadmat(dme[d])\n",
    "#     lyr = data[\"manualLayers1\"]\n",
    "#     if (np.isnan(lyr).any(axis=0) != np.isnan(lyr).all(axis=0)).sum():\n",
    "#         print(d)\n",
    "\n",
    "data = loadmat(dme[0])\n",
    "lyr = data[\"manualLayers1\"]\n",
    "img = data[\"images\"]\n",
    "idx = (np.isnan(lyr).any(axis=0) != np.isnan(lyr).all(axis=0))\n",
    "np.isnan(lyr[:, idx]).sum(axis=-1)"
   ]
  },
  {
   "cell_type": "markdown",
   "id": "4f0ab3e0",
   "metadata": {},
   "source": [
    "# Generating the dataset"
   ]
  },
  {
   "cell_type": "code",
   "execution_count": 167,
   "id": "a4ff280d",
   "metadata": {},
   "outputs": [],
   "source": [
    "mid_list = []"
   ]
  },
  {
   "cell_type": "code",
   "execution_count": 168,
   "id": "3413a41c",
   "metadata": {},
   "outputs": [
    {
     "name": "stderr",
     "output_type": "stream",
     "text": [
      "data generation: 100%|██████████| 5/5 [00:10<00:00,  2.04s/it]\n"
     ]
    }
   ],
   "source": [
    "patch_width = 64\n",
    "# generate_dme_dataset(\"../../dataset/raw/1-5\", f\"../../generated/training/DME_{patch_width}_t\", patch_width)\n",
    "generate_dme_dataset(\"../../dataset/raw/6-10\", f\"../../generated/validation/DME_{patch_width}_t\", patch_width)\n",
    "# len(list(Path(f\"../../generated/training/DME_{patch_width}\").glob(\"img*\")))"
   ]
  },
  {
   "cell_type": "code",
   "execution_count": 24,
   "id": "cb8e8d58",
   "metadata": {},
   "outputs": [],
   "source": [
    "from matplotlib import pyplot as plt"
   ]
  },
  {
   "cell_type": "code",
   "execution_count": 169,
   "id": "ddea4d3c",
   "metadata": {},
   "outputs": [
    {
     "data": {
      "image/png": "[encoded data removed]",
      "text/plain": [
       "<Figure size 432x288 with 1 Axes>"
      ]
     },
     "metadata": {
      "needs_background": "light"
     },
     "output_type": "display_data"
    }
   ],
   "source": [
    "plt.hist(mid_list)\n",
    "plt.xlabel(\"Center [px]\")\n",
    "plt.ylabel(\"Count\")\n",
    "plt.ylim(0, 60)\n",
    "plt.xlim(100, 700)\n",
    "plt.savefig(\"patch_center_distr_validation.png\")"
   ]
  },
  {
   "cell_type": "code",
   "execution_count": 29,
   "id": "2a3e41d7",
   "metadata": {},
   "outputs": [
    {
     "data": {
      "text/plain": [
       "(array([44., 37., 15., 39., 30., 42., 29., 44., 39., 28.]),\n",
       " array([131. , 180.6, 230.2, 279.8, 329.4, 379. , 428.6, 478.2, 527.8,\n",
       "        577.4, 627. ]),\n",
       " <BarContainer object of 10 artists>)"
      ]
     },
     "execution_count": 29,
     "metadata": {},
     "output_type": "execute_result"
    },
    {
     "data": {
      "image/png": "[encoded data removed]",
      "text/plain": [
       "<Figure size 432x288 with 1 Axes>"
      ]
     },
     "metadata": {
      "needs_background": "light"
     },
     "output_type": "display_data"
    }
   ],
   "source": [
    "plt.hist(mid_list)"
   ]
  },
  {
   "cell_type": "markdown",
   "id": "e3ffc81c",
   "metadata": {},
   "source": [
    "# Proove that the layer mask generation is correct"
   ]
  },
  {
   "cell_type": "code",
   "execution_count": 149,
   "id": "2d87467e",
   "metadata": {},
   "outputs": [
    {
     "data": {
      "text/plain": [
       "0"
      ]
     },
     "execution_count": 149,
     "metadata": {},
     "output_type": "execute_result"
    }
   ],
   "source": [
    "bmask = create_boundary_mask(lyr[:, 500:600], 496)\n",
    "lmask = create_layer_mask(lyr[:, 500:600], 496)\n",
    "diff = np.diff(lmask, axis=0)\n",
    "(np.pad(diff, ((0, 1), (0, 0)), constant_values=(0,)) != bmask).sum()"
   ]
  },
  {
   "cell_type": "markdown",
   "id": "b4c2482e",
   "metadata": {},
   "source": [
    "# AMD"
   ]
  },
  {
   "cell_type": "code",
   "execution_count": 10,
   "id": "6e4e4af6",
   "metadata": {},
   "outputs": [],
   "source": [
    "data = loadmat(amd[0])\n",
    "idx = 30\n",
    "img = data[\"images\"][:, :, idx]\n",
    "lyr = data[\"layerMaps\"][idx]"
   ]
  },
  {
   "cell_type": "code",
   "execution_count": 14,
   "id": "455501f5",
   "metadata": {},
   "outputs": [],
   "source": [
    "def generate_amd_dataset(amd_dir, control_dir, output_dir, patch_width):\n",
    "    files = list(\n",
    "        chain(\n",
    "            Path(amd_dir).glob(\"*\"),\n",
    "            Path(control_dir).glob(\"*\")\n",
    "        )\n",
    "    )\n",
    "    output_dir = Path(output_dir)\n",
    "    output_dir.mkdir()\n",
    "    cnt = 0\n",
    "    for file in tqdm(files, desc=\"data generation\"):\n",
    "        data = loadmat(file)\n",
    "        layers = data[\"layerMaps\"].transpose((0, 2, 1))\n",
    "        images = data[\"images\"].transpose((2, 0, 1))\n",
    "        for idx, (image, layer) in enumerate(zip(images, layers)):\n",
    "            patch_generator = create_patches(image, layer, patch_width)\n",
    "            for img, mask in patch_generator:\n",
    "                Image.fromarray(img).save(output_dir / f\"img_{cnt}.png\")\n",
    "                Image.fromarray(mask).save(output_dir / f\"mask_{cnt}.png\")\n",
    "                cnt += 1"
   ]
  },
  {
   "cell_type": "code",
   "execution_count": 34,
   "id": "f578e28f",
   "metadata": {},
   "outputs": [
    {
     "name": "stderr",
     "output_type": "stream",
     "text": [
      "data generation: 100%|██████████| 384/384 [04:31<00:00,  1.42it/s]\n"
     ]
    }
   ],
   "source": [
    "patch_width = 736\n",
    "generate_amd_dataset(\n",
    "    \"../../dataset/raw/AMD/\",\n",
    "    \"../../dataset/raw/Control/\",\n",
    "    f\"../../generated/AMD_{patch_width}\",\n",
    "    patch_width\n",
    ")"
   ]
  },
  {
   "cell_type": "code",
   "execution_count": 35,
   "id": "18f57373",
   "metadata": {},
   "outputs": [
    {
     "data": {
      "text/plain": [
       "2901"
      ]
     },
     "execution_count": 35,
     "metadata": {},
     "output_type": "execute_result"
    }
   ],
   "source": [
    "len(list(Path(\"../../generated/AMD_736\").glob(\"img*\")))"
   ]
  },
  {
   "cell_type": "code",
   "execution_count": 26,
   "id": "f1672fb0",
   "metadata": {},
   "outputs": [
    {
     "data": {
      "text/plain": [
       "784"
      ]
     },
     "execution_count": 26,
     "metadata": {},
     "output_type": "execute_result"
    }
   ],
   "source": [
    "loadmat(d)"
   ]
  },
  {
   "cell_type": "code",
   "execution_count": 33,
   "id": "2a5e1978",
   "metadata": {},
   "outputs": [
    {
     "data": {
      "text/plain": [
       "46.0"
      ]
     },
     "execution_count": 33,
     "metadata": {},
     "output_type": "execute_result"
    }
   ],
   "source": [
    "736 / 16"
   ]
  },
  {
   "cell_type": "code",
   "execution_count": 11,
   "id": "ab305d17",
   "metadata": {},
   "outputs": [],
   "source": [
    "show_layers_from_boundary_array(img, lyr).show()\n",
    "show_boundary_from_boundary_array(img, lyr).show()"
   ]
  },
  {
   "cell_type": "code",
   "execution_count": null,
   "id": "fe7ae043",
   "metadata": {},
   "outputs": [],
   "source": []
  }
 ],
 "metadata": {
  "kernelspec": {
   "display_name": "Python 3",
   "language": "python",
   "name": "python3"
  },
  "language_info": {
   "codemirror_mode": {
    "name": "ipython",
    "version": 3
   },
   "file_extension": ".py",
   "mimetype": "text/x-python",
   "name": "python",
   "nbconvert_exporter": "python",
   "pygments_lexer": "ipython3",
   "version": "3.7.9"
  }
 },
 "nbformat": 4,
 "nbformat_minor": 5
}
